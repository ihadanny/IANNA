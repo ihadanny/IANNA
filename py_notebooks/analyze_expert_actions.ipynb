{
 "cells": [
  {
   "cell_type": "code",
   "execution_count": 1,
   "metadata": {
    "collapsed": true
   },
   "outputs": [],
   "source": [
    "import pandas as pd\n"
   ]
  },
  {
   "cell_type": "code",
   "execution_count": 3,
   "metadata": {},
   "outputs": [],
   "source": [
    "acts = pd.read_csv('/home/ihadanny/src/IANNA/data/experts_actions.tsv', sep = '\\t')"
   ]
  },
  {
   "cell_type": "code",
   "execution_count": 23,
   "metadata": {},
   "outputs": [],
   "source": [
    "acts.sort_values('action_id', inplace=True)"
   ]
  },
  {
   "cell_type": "code",
   "execution_count": 24,
   "metadata": {},
   "outputs": [
    {
     "data": {
      "text/html": [
       "<div>\n",
       "<style>\n",
       "    .dataframe thead tr:only-child th {\n",
       "        text-align: right;\n",
       "    }\n",
       "\n",
       "    .dataframe thead th {\n",
       "        text-align: left;\n",
       "    }\n",
       "\n",
       "    .dataframe tbody tr th {\n",
       "        vertical-align: top;\n",
       "    }\n",
       "</style>\n",
       "<table border=\"1\" class=\"dataframe\">\n",
       "  <thead>\n",
       "    <tr style=\"text-align: right;\">\n",
       "      <th></th>\n",
       "      <th>creation_time</th>\n",
       "      <th>session_id</th>\n",
       "      <th>project_id</th>\n",
       "      <th>action_id</th>\n",
       "      <th>action_params</th>\n",
       "      <th>parent_display_id</th>\n",
       "      <th>child_display_id</th>\n",
       "    </tr>\n",
       "  </thead>\n",
       "  <tbody>\n",
       "    <tr>\n",
       "      <th>0</th>\n",
       "      <td>2016-08-14 12:44:05</td>\n",
       "      <td>1</td>\n",
       "      <td>1</td>\n",
       "      <td>1</td>\n",
       "      <td>{\\field\\\":\\\"eth_src\\\",\\\"aggregations\\\":[],\\\"gr...</td>\n",
       "      <td>1</td>\n",
       "      <td>2</td>\n",
       "    </tr>\n",
       "    <tr>\n",
       "      <th>1</th>\n",
       "      <td>2016-08-14 12:44:08</td>\n",
       "      <td>1</td>\n",
       "      <td>1</td>\n",
       "      <td>2</td>\n",
       "      <td>{\\field\\\":\\\"ip_src\\\",\\\"aggregations\\\":[],\\\"gro...</td>\n",
       "      <td>2</td>\n",
       "      <td>3</td>\n",
       "    </tr>\n",
       "    <tr>\n",
       "      <th>2</th>\n",
       "      <td>2016-08-15 09:40:42</td>\n",
       "      <td>2</td>\n",
       "      <td>1</td>\n",
       "      <td>3</td>\n",
       "      <td>{\\field\\\":\\\"eth_src\\\",\\\"aggregations\\\":[{\\\"fie...</td>\n",
       "      <td>4</td>\n",
       "      <td>5</td>\n",
       "    </tr>\n",
       "    <tr>\n",
       "      <th>3</th>\n",
       "      <td>2016-08-15 13:13:54</td>\n",
       "      <td>2</td>\n",
       "      <td>1</td>\n",
       "      <td>4</td>\n",
       "      <td>{\\field\\\":\\\"ip_src\\\",\\\"aggregations\\\":[{\\\"fiel...</td>\n",
       "      <td>4</td>\n",
       "      <td>6</td>\n",
       "    </tr>\n",
       "    <tr>\n",
       "      <th>4</th>\n",
       "      <td>2016-08-15 13:14:10</td>\n",
       "      <td>2</td>\n",
       "      <td>1</td>\n",
       "      <td>5</td>\n",
       "      <td>{\\field\\\":\\\"ip_src\\\",\\\"aggregations\\\":[],\\\"gro...</td>\n",
       "      <td>4</td>\n",
       "      <td>7</td>\n",
       "    </tr>\n",
       "  </tbody>\n",
       "</table>\n",
       "</div>"
      ],
      "text/plain": [
       "         creation_time  session_id  project_id  action_id  \\\n",
       "0  2016-08-14 12:44:05           1           1          1   \n",
       "1  2016-08-14 12:44:08           1           1          2   \n",
       "2  2016-08-15 09:40:42           2           1          3   \n",
       "3  2016-08-15 13:13:54           2           1          4   \n",
       "4  2016-08-15 13:14:10           2           1          5   \n",
       "\n",
       "                                       action_params  parent_display_id  \\\n",
       "0  {\\field\\\":\\\"eth_src\\\",\\\"aggregations\\\":[],\\\"gr...                  1   \n",
       "1  {\\field\\\":\\\"ip_src\\\",\\\"aggregations\\\":[],\\\"gro...                  2   \n",
       "2  {\\field\\\":\\\"eth_src\\\",\\\"aggregations\\\":[{\\\"fie...                  4   \n",
       "3  {\\field\\\":\\\"ip_src\\\",\\\"aggregations\\\":[{\\\"fiel...                  4   \n",
       "4  {\\field\\\":\\\"ip_src\\\",\\\"aggregations\\\":[],\\\"gro...                  4   \n",
       "\n",
       "   child_display_id  \n",
       "0                 2  \n",
       "1                 3  \n",
       "2                 5  \n",
       "3                 6  \n",
       "4                 7  "
      ]
     },
     "execution_count": 24,
     "metadata": {},
     "output_type": "execute_result"
    }
   ],
   "source": [
    "acts.head()"
   ]
  },
  {
   "cell_type": "code",
   "execution_count": 28,
   "metadata": {},
   "outputs": [
    {
     "data": {
      "text/html": [
       "<div>\n",
       "<style>\n",
       "    .dataframe thead tr:only-child th {\n",
       "        text-align: right;\n",
       "    }\n",
       "\n",
       "    .dataframe thead th {\n",
       "        text-align: left;\n",
       "    }\n",
       "\n",
       "    .dataframe tbody tr th {\n",
       "        vertical-align: top;\n",
       "    }\n",
       "</style>\n",
       "<table border=\"1\" class=\"dataframe\">\n",
       "  <thead>\n",
       "    <tr style=\"text-align: right;\">\n",
       "      <th></th>\n",
       "      <th>creation_time</th>\n",
       "      <th>session_id</th>\n",
       "      <th>project_id</th>\n",
       "      <th>action_id</th>\n",
       "      <th>action_params</th>\n",
       "      <th>parent_display_id</th>\n",
       "      <th>child_display_id</th>\n",
       "    </tr>\n",
       "  </thead>\n",
       "  <tbody>\n",
       "    <tr>\n",
       "      <th>310</th>\n",
       "      <td>2016-10-19 12:06:58</td>\n",
       "      <td>401</td>\n",
       "      <td>2</td>\n",
       "      <td>2214</td>\n",
       "      <td>{\\field\\\":\\\"eth_dst\\\",\\\"aggregations\\\":[],\\\"gr...</td>\n",
       "      <td>2627</td>\n",
       "      <td>2638</td>\n",
       "    </tr>\n",
       "    <tr>\n",
       "      <th>311</th>\n",
       "      <td>2016-10-19 12:07:00</td>\n",
       "      <td>401</td>\n",
       "      <td>2</td>\n",
       "      <td>2215</td>\n",
       "      <td>{\\field\\\":\\\"ip_src\\\",\\\"aggregations\\\":[],\\\"gro...</td>\n",
       "      <td>2627</td>\n",
       "      <td>2639</td>\n",
       "    </tr>\n",
       "    <tr>\n",
       "      <th>312</th>\n",
       "      <td>2016-10-19 12:07:02</td>\n",
       "      <td>401</td>\n",
       "      <td>2</td>\n",
       "      <td>2216</td>\n",
       "      <td>{\\field\\\":\\\"ip_dst\\\",\\\"direction\\\":\\\"asc\\\"}\"</td>\n",
       "      <td>2638</td>\n",
       "      <td>2640</td>\n",
       "    </tr>\n",
       "    <tr>\n",
       "      <th>313</th>\n",
       "      <td>2016-10-19 12:07:08</td>\n",
       "      <td>401</td>\n",
       "      <td>2</td>\n",
       "      <td>2218</td>\n",
       "      <td>{\\field\\\":\\\"ip_dst\\\",\\\"aggregations\\\":[],\\\"gro...</td>\n",
       "      <td>2640</td>\n",
       "      <td>2642</td>\n",
       "    </tr>\n",
       "  </tbody>\n",
       "</table>\n",
       "</div>"
      ],
      "text/plain": [
       "           creation_time  session_id  project_id  action_id  \\\n",
       "310  2016-10-19 12:06:58         401           2       2214   \n",
       "311  2016-10-19 12:07:00         401           2       2215   \n",
       "312  2016-10-19 12:07:02         401           2       2216   \n",
       "313  2016-10-19 12:07:08         401           2       2218   \n",
       "\n",
       "                                         action_params  parent_display_id  \\\n",
       "310  {\\field\\\":\\\"eth_dst\\\",\\\"aggregations\\\":[],\\\"gr...               2627   \n",
       "311  {\\field\\\":\\\"ip_src\\\",\\\"aggregations\\\":[],\\\"gro...               2627   \n",
       "312       {\\field\\\":\\\"ip_dst\\\",\\\"direction\\\":\\\"asc\\\"}\"               2638   \n",
       "313  {\\field\\\":\\\"ip_dst\\\",\\\"aggregations\\\":[],\\\"gro...               2640   \n",
       "\n",
       "     child_display_id  \n",
       "310              2638  \n",
       "311              2639  \n",
       "312              2640  \n",
       "313              2642  "
      ]
     },
     "execution_count": 28,
     "metadata": {},
     "output_type": "execute_result"
    }
   ],
   "source": [
    "acts[acts.session_id == 401]"
   ]
  },
  {
   "cell_type": "code",
   "execution_count": 29,
   "metadata": {},
   "outputs": [
    {
     "name": "stdout",
     "output_type": "stream",
     "text": [
      "session_id 401 action_id 2214\n",
      "start 2627\n",
      "len 1\n",
      "group 2627\n",
      "to 2638\n",
      "session_id 401 action_id 2215\n",
      "len 2\n",
      "back 2638\n",
      "to 2627\n",
      "group 2627\n",
      "to 2639\n",
      "session_id 401 action_id 2216\n",
      "len 2\n",
      "back 2639\n",
      "to 2627\n",
      "back 2627\n",
      "session_id 401 action_id 2214\n",
      "len 0\n"
     ]
    },
    {
     "ename": "IndexError",
     "evalue": "('list index out of range', 'occurred at index 310')",
     "output_type": "error",
     "traceback": [
      "\u001b[0;31m---------------------------------------------------------------------------\u001b[0m",
      "\u001b[0;31mIndexError\u001b[0m                                Traceback (most recent call last)",
      "\u001b[0;32m<ipython-input-29-da0eaae582b1>\u001b[0m in \u001b[0;36m<module>\u001b[0;34m()\u001b[0m\n\u001b[1;32m     20\u001b[0m \u001b[0;34m\u001b[0m\u001b[0m\n\u001b[1;32m     21\u001b[0m \u001b[0;34m\u001b[0m\u001b[0m\n\u001b[0;32m---> 22\u001b[0;31m \u001b[0macts\u001b[0m\u001b[0;34m[\u001b[0m\u001b[0macts\u001b[0m\u001b[0;34m.\u001b[0m\u001b[0msession_id\u001b[0m \u001b[0;34m==\u001b[0m \u001b[0;36m401\u001b[0m\u001b[0;34m]\u001b[0m\u001b[0;34m.\u001b[0m\u001b[0mapply\u001b[0m\u001b[0;34m(\u001b[0m\u001b[0mgen_complete_acts\u001b[0m\u001b[0;34m,\u001b[0m \u001b[0maxis\u001b[0m \u001b[0;34m=\u001b[0m \u001b[0;36m1\u001b[0m\u001b[0;34m)\u001b[0m\u001b[0;34m\u001b[0m\u001b[0m\n\u001b[0m",
      "\u001b[0;32m/home/ihadanny/anaconda2/envs/py3k/lib/python3.6/site-packages/pandas/core/frame.py\u001b[0m in \u001b[0;36mapply\u001b[0;34m(self, func, axis, broadcast, raw, reduce, args, **kwds)\u001b[0m\n\u001b[1;32m   4260\u001b[0m                         \u001b[0mf\u001b[0m\u001b[0;34m,\u001b[0m \u001b[0maxis\u001b[0m\u001b[0;34m,\u001b[0m\u001b[0;34m\u001b[0m\u001b[0m\n\u001b[1;32m   4261\u001b[0m                         \u001b[0mreduce\u001b[0m\u001b[0;34m=\u001b[0m\u001b[0mreduce\u001b[0m\u001b[0;34m,\u001b[0m\u001b[0;34m\u001b[0m\u001b[0m\n\u001b[0;32m-> 4262\u001b[0;31m                         ignore_failures=ignore_failures)\n\u001b[0m\u001b[1;32m   4263\u001b[0m             \u001b[0;32melse\u001b[0m\u001b[0;34m:\u001b[0m\u001b[0;34m\u001b[0m\u001b[0m\n\u001b[1;32m   4264\u001b[0m                 \u001b[0;32mreturn\u001b[0m \u001b[0mself\u001b[0m\u001b[0;34m.\u001b[0m\u001b[0m_apply_broadcast\u001b[0m\u001b[0;34m(\u001b[0m\u001b[0mf\u001b[0m\u001b[0;34m,\u001b[0m \u001b[0maxis\u001b[0m\u001b[0;34m)\u001b[0m\u001b[0;34m\u001b[0m\u001b[0m\n",
      "\u001b[0;32m/home/ihadanny/anaconda2/envs/py3k/lib/python3.6/site-packages/pandas/core/frame.py\u001b[0m in \u001b[0;36m_apply_standard\u001b[0;34m(self, func, axis, ignore_failures, reduce)\u001b[0m\n\u001b[1;32m   4356\u001b[0m             \u001b[0;32mtry\u001b[0m\u001b[0;34m:\u001b[0m\u001b[0;34m\u001b[0m\u001b[0m\n\u001b[1;32m   4357\u001b[0m                 \u001b[0;32mfor\u001b[0m \u001b[0mi\u001b[0m\u001b[0;34m,\u001b[0m \u001b[0mv\u001b[0m \u001b[0;32min\u001b[0m \u001b[0menumerate\u001b[0m\u001b[0;34m(\u001b[0m\u001b[0mseries_gen\u001b[0m\u001b[0;34m)\u001b[0m\u001b[0;34m:\u001b[0m\u001b[0;34m\u001b[0m\u001b[0m\n\u001b[0;32m-> 4358\u001b[0;31m                     \u001b[0mresults\u001b[0m\u001b[0;34m[\u001b[0m\u001b[0mi\u001b[0m\u001b[0;34m]\u001b[0m \u001b[0;34m=\u001b[0m \u001b[0mfunc\u001b[0m\u001b[0;34m(\u001b[0m\u001b[0mv\u001b[0m\u001b[0;34m)\u001b[0m\u001b[0;34m\u001b[0m\u001b[0m\n\u001b[0m\u001b[1;32m   4359\u001b[0m                     \u001b[0mkeys\u001b[0m\u001b[0;34m.\u001b[0m\u001b[0mappend\u001b[0m\u001b[0;34m(\u001b[0m\u001b[0mv\u001b[0m\u001b[0;34m.\u001b[0m\u001b[0mname\u001b[0m\u001b[0;34m)\u001b[0m\u001b[0;34m\u001b[0m\u001b[0m\n\u001b[1;32m   4360\u001b[0m             \u001b[0;32mexcept\u001b[0m \u001b[0mException\u001b[0m \u001b[0;32mas\u001b[0m \u001b[0me\u001b[0m\u001b[0;34m:\u001b[0m\u001b[0;34m\u001b[0m\u001b[0m\n",
      "\u001b[0;32m<ipython-input-29-da0eaae582b1>\u001b[0m in \u001b[0;36mgen_complete_acts\u001b[0;34m(x)\u001b[0m\n\u001b[1;32m      7\u001b[0m     \u001b[0mmy_stack\u001b[0m \u001b[0;34m=\u001b[0m \u001b[0mcur_disp\u001b[0m\u001b[0;34m[\u001b[0m\u001b[0mx\u001b[0m\u001b[0;34m[\u001b[0m\u001b[0;34m'session_id'\u001b[0m\u001b[0;34m]\u001b[0m\u001b[0;34m]\u001b[0m\u001b[0;34m\u001b[0m\u001b[0m\n\u001b[1;32m      8\u001b[0m     \u001b[0mprint\u001b[0m\u001b[0;34m(\u001b[0m\u001b[0;34m'len'\u001b[0m\u001b[0;34m,\u001b[0m \u001b[0mlen\u001b[0m\u001b[0;34m(\u001b[0m\u001b[0mmy_stack\u001b[0m\u001b[0;34m)\u001b[0m\u001b[0;34m)\u001b[0m\u001b[0;34m\u001b[0m\u001b[0m\n\u001b[0;32m----> 9\u001b[0;31m     \u001b[0;32mwhile\u001b[0m \u001b[0mmy_stack\u001b[0m\u001b[0;34m[\u001b[0m\u001b[0;34m-\u001b[0m\u001b[0;36m1\u001b[0m\u001b[0;34m]\u001b[0m \u001b[0;34m!=\u001b[0m \u001b[0mx\u001b[0m\u001b[0;34m[\u001b[0m\u001b[0;34m'parent_display_id'\u001b[0m\u001b[0;34m]\u001b[0m\u001b[0;34m:\u001b[0m\u001b[0;34m\u001b[0m\u001b[0m\n\u001b[0m\u001b[1;32m     10\u001b[0m         \u001b[0mprint\u001b[0m\u001b[0;34m(\u001b[0m\u001b[0;34m'back'\u001b[0m\u001b[0;34m,\u001b[0m \u001b[0mmy_stack\u001b[0m\u001b[0;34m[\u001b[0m\u001b[0;34m-\u001b[0m\u001b[0;36m1\u001b[0m\u001b[0;34m]\u001b[0m\u001b[0;34m)\u001b[0m\u001b[0;34m\u001b[0m\u001b[0m\n\u001b[1;32m     11\u001b[0m         \u001b[0mmy_stack\u001b[0m\u001b[0;34m.\u001b[0m\u001b[0mpop\u001b[0m\u001b[0;34m(\u001b[0m\u001b[0;34m)\u001b[0m\u001b[0;34m\u001b[0m\u001b[0m\n",
      "\u001b[0;31mIndexError\u001b[0m: ('list index out of range', 'occurred at index 310')"
     ]
    }
   ],
   "source": [
    "cur_disp = {}\n",
    "def gen_complete_acts(x):\n",
    "    print('session_id', x['session_id'], 'action_id', x['action_id'])\n",
    "    if x['session_id'] not in cur_disp:\n",
    "        cur_disp[x['session_id']] = [x['parent_display_id']]\n",
    "        print('start', x['parent_display_id'])\n",
    "    my_stack = cur_disp[x['session_id']]\n",
    "    print('len', len(my_stack))\n",
    "    while my_stack[-1] != x['parent_display_id']:\n",
    "        print('back', my_stack[-1])\n",
    "        my_stack.pop()\n",
    "        print('to', my_stack[-1])\n",
    "    if 'group' in x['action_params']:\n",
    "        print('group', my_stack[-1])\n",
    "    else:\n",
    "        print('filter', my_stack[-1])\n",
    "\n",
    "    my_stack.append(x['child_display_id'])\n",
    "    print('to', my_stack[-1])\n",
    "    \n",
    "    \n",
    "acts[acts.session_id == 401].apply(gen_complete_acts, axis = 1)"
   ]
  },
  {
   "cell_type": "code",
   "execution_count": null,
   "metadata": {
    "collapsed": true
   },
   "outputs": [],
   "source": []
  }
 ],
 "metadata": {
  "kernelspec": {
   "display_name": "Python 3",
   "language": "python",
   "name": "python3"
  },
  "language_info": {
   "codemirror_mode": {
    "name": "ipython",
    "version": 3
   },
   "file_extension": ".py",
   "mimetype": "text/x-python",
   "name": "python",
   "nbconvert_exporter": "python",
   "pygments_lexer": "ipython3",
   "version": "3.6.1"
  }
 },
 "nbformat": 4,
 "nbformat_minor": 2
}
