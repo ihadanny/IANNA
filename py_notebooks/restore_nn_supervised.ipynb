{
 "cells": [
  {
   "cell_type": "code",
   "execution_count": 4,
   "metadata": {
    "collapsed": true
   },
   "outputs": [],
   "source": [
    "import numpy as np\n",
    "import tensorflow as tf\n",
    "import gym\n",
    "from gym_ianna.envs.ianna_env import IANNAEnv\n",
    "\n"
   ]
  },
  {
   "cell_type": "code",
   "execution_count": 10,
   "metadata": {
    "collapsed": true
   },
   "outputs": [],
   "source": [
    "INPUT_DIM = 32 #Input dimensions\n",
    "H_SIZE = 50 #Number of hidden layer neurons\n",
    "ETA = 1e-2 #Learning Rate\n",
    "OUTPUT_DIM = 15"
   ]
  },
  {
   "cell_type": "code",
   "execution_count": 12,
   "metadata": {},
   "outputs": [],
   "source": [
    "#Initializing \n",
    "tf.reset_default_graph()\n",
    "\n",
    "input_x = tf.placeholder(tf.float32, [None,INPUT_DIM] , name=\"input_x\")\n",
    "\n",
    "W1 = tf.get_variable(\"W1\", shape=[INPUT_DIM, H_SIZE],\n",
    "           initializer=tf.contrib.layers.xavier_initializer())\n",
    "b1 = tf.get_variable(shape=[1,H_SIZE],name='b1',\n",
    "                              initializer=tf.contrib.layers.xavier_initializer())\n",
    "layer1 = tf.nn.relu(tf.matmul(input_x,W1) + b1) \n",
    "W2 = tf.get_variable(\"W2\", shape=[H_SIZE, H_SIZE],\n",
    "           initializer=tf.contrib.layers.xavier_initializer())\n",
    "b2 = tf.get_variable(shape=[1,H_SIZE],name='b2',\n",
    "                              initializer=tf.contrib.layers.xavier_initializer())\n",
    "layer2 = tf.nn.relu(tf.matmul(layer1,W2) + b2)\n",
    "W3 = tf.get_variable(\"W3\", shape=[H_SIZE, OUTPUT_DIM],\n",
    "           initializer=tf.contrib.layers.xavier_initializer())\n",
    "b3 = tf.get_variable(shape=[1,OUTPUT_DIM],name='b3',\n",
    "                              initializer=tf.contrib.layers.xavier_initializer())\n",
    "y_predicted = tf.matmul(layer2,W3) + b3\n"
   ]
  },
  {
   "cell_type": "code",
   "execution_count": 16,
   "metadata": {},
   "outputs": [
    {
     "name": "stdout",
     "output_type": "stream",
     "text": [
      "INFO:tensorflow:Restoring parameters from ../models/ianna-nn-supervised\n"
     ]
    },
    {
     "name": "stderr",
     "output_type": "stream",
     "text": [
      "[2017-08-11 09:26:33,073] Restoring parameters from ../models/ianna-nn-supervised\n"
     ]
    }
   ],
   "source": [
    "saver = tf.train.Saver()\n",
    "\n",
    "sess = tf.Session()\n",
    "saver.restore(sess, \"../models/ianna-nn-supervised\")\n"
   ]
  },
  {
   "cell_type": "code",
   "execution_count": null,
   "metadata": {
    "collapsed": true
   },
   "outputs": [],
   "source": []
  }
 ],
 "metadata": {
  "kernelspec": {
   "display_name": "Python 3",
   "language": "python",
   "name": "python3"
  },
  "language_info": {
   "codemirror_mode": {
    "name": "ipython",
    "version": 3
   },
   "file_extension": ".py",
   "mimetype": "text/x-python",
   "name": "python",
   "nbconvert_exporter": "python",
   "pygments_lexer": "ipython3",
   "version": "3.6.1"
  }
 },
 "nbformat": 4,
 "nbformat_minor": 2
}
