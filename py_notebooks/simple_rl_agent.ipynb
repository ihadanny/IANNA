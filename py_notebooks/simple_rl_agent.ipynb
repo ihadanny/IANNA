{
 "cells": [
  {
   "cell_type": "code",
   "execution_count": 10,
   "metadata": {},
   "outputs": [],
   "source": [
    "import numpy as np\n",
    "\n",
    "import gym\n",
    "from gym_ianna.envs.ianna_env import IANNAEnv\n",
    "\n"
   ]
  },
  {
   "cell_type": "code",
   "execution_count": 11,
   "metadata": {},
   "outputs": [
    {
     "name": "stderr",
     "output_type": "stream",
     "text": [
      "[2017-08-10 22:37:21,567] Making new env: IANNA-v0\n"
     ]
    },
    {
     "name": "stdout",
     "output_type": "stream",
     "text": [
      "rendering...\n",
      "grouping by: []\n",
      "Unnamed: 0            8648\n",
      "captured_length         10\n",
      "eth_dst                  2\n",
      "eth_src                  2\n",
      "highest_layer            3\n",
      "info_line             8148\n",
      "interface_captured       0\n",
      "ip_dst                3692\n",
      "ip_src                 180\n",
      "length                  10\n",
      "number                8648\n",
      "project_id               1\n",
      "sniff_timestamp        118\n",
      "tcp_dstport            157\n",
      "tcp_srcport            208\n",
      "tcp_stream             206\n",
      "dtype: int64\n"
     ]
    }
   ],
   "source": [
    "env = gym.make(\"IANNA-v0\")\n"
   ]
  },
  {
   "cell_type": "code",
   "execution_count": 12,
   "metadata": {},
   "outputs": [
    {
     "name": "stdout",
     "output_type": "stream",
     "text": [
      "[8648 8648 8648   10    2    2    3 8148    0 3692  180   10 8648    1  118\n",
      "  157  208  206    0    0    0    0    0    0    0    0    0    0    0    0\n",
      "    0    0    0    0]\n"
     ]
    }
   ],
   "source": [
    "observation = env.reset()\n",
    "print(observation)\n"
   ]
  },
  {
   "cell_type": "code",
   "execution_count": 13,
   "metadata": {},
   "outputs": [
    {
     "name": "stdout",
     "output_type": "stream",
     "text": [
      "filter tcp_srcport GT 676.9\n",
      "[291 291 291   2   1   1   1 219   0  94   1   2 291   1  64   3 118 118\n",
      "   0   0   0   0   0   0   0   0   0   0   0   0   0   0   0   0] 1.0 False\n"
     ]
    }
   ],
   "source": [
    "\n",
    "action = np.array([1, 14, 1, 7, 0, 0])\n",
    "observation, reward, done, info = env.step(action)\n",
    "print(observation, reward, done)\n"
   ]
  },
  {
   "cell_type": "code",
   "execution_count": 14,
   "metadata": {},
   "outputs": [
    {
     "name": "stdout",
     "output_type": "stream",
     "text": [
      "group highest_layer\n",
      "[291   1 291   2   1   1   1 219   0  94   1   2 291   1  64   3 118 118\n",
      "   0   0   0   0   1   0   0   0   0   0   0   0   0   0   0   0] 1.0 False\n"
     ]
    }
   ],
   "source": [
    "\n",
    "action = np.array([2, 4, 0, 0, 0, 0])\n",
    "observation, reward, done, info = env.step(action)\n",
    "print(observation, reward, done)\n"
   ]
  },
  {
   "cell_type": "code",
   "execution_count": 15,
   "metadata": {},
   "outputs": [
    {
     "name": "stdout",
     "output_type": "stream",
     "text": [
      "group tcp_dstport\n",
      "[291   3 291   2   1   1   1 219   0  94   1   2 291   1  64   3 118 118\n",
      "   0   0   0   0   1   0   0   0   0   0   0   0   0   1   0   0] 1.0 False\n"
     ]
    }
   ],
   "source": [
    "action = np.array([2, 13, 0, 0, 0, 0])\n",
    "observation, reward, done, info = env.step(action)\n",
    "print(observation, reward, done)\n"
   ]
  },
  {
   "cell_type": "code",
   "execution_count": 16,
   "metadata": {},
   "outputs": [
    {
     "name": "stdout",
     "output_type": "stream",
     "text": [
      "back\n",
      "[291   1 291   2   1   1   1 219   0  94   1   2 291   1  64   3 118 118\n",
      "   0   0   0   0   1   0   0   0   0   0   0   0   0   0   0   0] 1.0 False\n"
     ]
    }
   ],
   "source": [
    "\n",
    "action = np.array([0, 0, 0, 0, 0, 0])\n",
    "observation, reward, done, info = env.step(action)\n",
    "print(observation, reward, done)\n"
   ]
  },
  {
   "cell_type": "code",
   "execution_count": null,
   "metadata": {
    "collapsed": true
   },
   "outputs": [],
   "source": []
  }
 ],
 "metadata": {
  "kernelspec": {
   "display_name": "Python 3",
   "language": "python",
   "name": "python3"
  },
  "language_info": {
   "codemirror_mode": {
    "name": "ipython",
    "version": 3
   },
   "file_extension": ".py",
   "mimetype": "text/x-python",
   "name": "python",
   "nbconvert_exporter": "python",
   "pygments_lexer": "ipython3",
   "version": "3.6.1"
  }
 },
 "nbformat": 4,
 "nbformat_minor": 2
}
