{
 "cells": [
  {
   "cell_type": "code",
   "execution_count": 6,
   "metadata": {
    "collapsed": true
   },
   "outputs": [],
   "source": [
    "import pandas as pd\n"
   ]
  },
  {
   "cell_type": "code",
   "execution_count": 13,
   "metadata": {
    "collapsed": true
   },
   "outputs": [],
   "source": [
    "grid = pd.read_csv('../grid_search_rl.csv')"
   ]
  },
  {
   "cell_type": "code",
   "execution_count": 14,
   "metadata": {},
   "outputs": [
    {
     "data": {
      "text/plain": [
       "STATE_INPUT_SIZE  HIDDEN_LAYERS  HIDDEN_SIZE\n",
       "4                 1              5              2.304\n",
       "                                 10             2.408\n",
       "                                 20             2.342\n",
       "                  2              5              2.356\n",
       "                                 10             2.442\n",
       "                                 20             2.394\n",
       "5                 1              5              1.224\n",
       "                                 10             2.636\n",
       "                                 20             0.000\n",
       "                  2              5              2.636\n",
       "                                 10             2.658\n",
       "                                 20             2.688\n",
       "6                 1              5              2.814\n",
       "                                 10             3.012\n",
       "                                 20             2.894\n",
       "                  2              5              2.788\n",
       "                                 10             0.000\n",
       "                                 20             2.898\n",
       "7                 1              5              2.958\n",
       "                                 10             3.064\n",
       "                                 20             0.000\n",
       "                  2              5              1.262\n",
       "                                 10             3.102\n",
       "                                 20             3.060\n",
       "8                 1              5              2.858\n",
       "                                 10             3.140\n",
       "                                 20             3.224\n",
       "                  2              5              2.388\n",
       "                                 10             3.206\n",
       "                                 20             3.240\n",
       "                                                ...  \n",
       "9                 1              10             3.360\n",
       "                                 20             3.236\n",
       "                  2              5              3.028\n",
       "                                 10             3.126\n",
       "                                 20             3.204\n",
       "10                1              5              3.176\n",
       "                                 10             3.164\n",
       "                                 20             3.252\n",
       "                  2              5              3.114\n",
       "                                 10             3.146\n",
       "                                 20             3.224\n",
       "11                1              5              3.186\n",
       "                                 10             3.054\n",
       "                                 20             2.922\n",
       "                  2              5              3.148\n",
       "                                 10             3.332\n",
       "                                 20             3.268\n",
       "12                1              5              3.238\n",
       "                                 10             3.242\n",
       "                                 20             3.400\n",
       "                  2              5              3.282\n",
       "                                 10             3.394\n",
       "                                 20             3.218\n",
       "13                1              5              3.440\n",
       "                                 10             3.098\n",
       "                                 20             3.220\n",
       "                  2              5              3.400\n",
       "                                 10             3.380\n",
       "                                 20             3.084\n",
       "14                1              5              3.426\n",
       "Name: AVERAGE_REWARD_10000, Length: 61, dtype: float64"
      ]
     },
     "execution_count": 14,
     "metadata": {},
     "output_type": "execute_result"
    }
   ],
   "source": [
    "grid.groupby(['STATE_INPUT_SIZE', 'HIDDEN_LAYERS','HIDDEN_SIZE']).AVERAGE_REWARD_10000.mean()"
   ]
  },
  {
   "cell_type": "code",
   "execution_count": null,
   "metadata": {
    "collapsed": true
   },
   "outputs": [],
   "source": []
  }
 ],
 "metadata": {
  "kernelspec": {
   "display_name": "Python 3",
   "language": "python",
   "name": "python3"
  },
  "language_info": {
   "codemirror_mode": {
    "name": "ipython",
    "version": 3
   },
   "file_extension": ".py",
   "mimetype": "text/x-python",
   "name": "python",
   "nbconvert_exporter": "python",
   "pygments_lexer": "ipython3",
   "version": "3.6.1"
  }
 },
 "nbformat": 4,
 "nbformat_minor": 2
}
