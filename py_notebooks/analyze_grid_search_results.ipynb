{
 "cells": [
  {
   "cell_type": "code",
   "execution_count": 6,
   "metadata": {
    "collapsed": true
   },
   "outputs": [],
   "source": [
    "import pandas as pd\n"
   ]
  },
  {
   "cell_type": "code",
   "execution_count": 13,
   "metadata": {
    "collapsed": true
   },
   "outputs": [],
   "source": [
    "grid = pd.read_csv('../grid_search_rl.csv')"
   ]
  },
  {
   "cell_type": "code",
   "execution_count": 17,
   "metadata": {},
   "outputs": [
    {
     "data": {
      "text/plain": [
       "STATE_INPUT_SIZE  HIDDEN_LAYERS  HIDDEN_SIZE  GAMMA\n",
       "4                 1              5            0.99     2.304\n",
       "                                 10           0.99     2.408\n",
       "                                 20           0.99     2.342\n",
       "                  2              5            0.99     2.356\n",
       "                                 10           0.99     2.442\n",
       "                                 20           0.99     2.394\n",
       "5                 1              5            0.99     1.224\n",
       "                                 10           0.99     2.636\n",
       "                                 20           0.99     0.000\n",
       "                  2              5            0.99     2.636\n",
       "                                 10           0.99     2.658\n",
       "                                 20           0.99     2.688\n",
       "6                 1              5            0.99     2.814\n",
       "                                 10           0.99     3.012\n",
       "                                 20           0.99     2.894\n",
       "                  2              5            0.99     2.788\n",
       "                                 10           0.99     0.000\n",
       "                                 20           0.99     2.898\n",
       "7                 1              5            0.99     2.958\n",
       "                                 10           0.99     3.064\n",
       "                                 20           0.99     0.000\n",
       "                  2              5            0.99     1.262\n",
       "                                 10           0.99     3.102\n",
       "                                 20           0.99     3.060\n",
       "8                 1              5            0.99     2.858\n",
       "                                 10           0.99     3.140\n",
       "                                 20           0.99     3.224\n",
       "                  2              5            0.99     2.388\n",
       "                                 10           0.99     3.206\n",
       "                                 20           0.99     3.240\n",
       "                                                       ...  \n",
       "9                 1              10           0.99     3.360\n",
       "                                 20           0.99     3.236\n",
       "                  2              5            0.99     3.028\n",
       "                                 10           0.99     3.126\n",
       "                                 20           0.99     3.204\n",
       "10                1              5            0.99     3.176\n",
       "                                 10           0.99     3.164\n",
       "                                 20           0.99     3.252\n",
       "                  2              5            0.99     3.114\n",
       "                                 10           0.99     3.146\n",
       "                                 20           0.99     3.224\n",
       "11                1              5            0.99     3.186\n",
       "                                 10           0.99     3.054\n",
       "                                 20           0.99     2.922\n",
       "                  2              5            0.99     3.148\n",
       "                                 10           0.99     3.332\n",
       "                                 20           0.99     3.268\n",
       "12                1              5            0.99     3.238\n",
       "                                 10           0.99     3.242\n",
       "                                 20           0.99     3.400\n",
       "                  2              5            0.99     3.282\n",
       "                                 10           0.99     3.394\n",
       "                                 20           0.99     3.218\n",
       "13                1              5            0.99     3.440\n",
       "                                 10           0.99     3.098\n",
       "                                 20           0.99     3.220\n",
       "                  2              5            0.99     3.400\n",
       "                                 10           0.99     3.380\n",
       "                                 20           0.99     3.084\n",
       "14                1              5            0.99     3.426\n",
       "Name: AVERAGE_REWARD_10000, Length: 61, dtype: float64"
      ]
     },
     "execution_count": 17,
     "metadata": {},
     "output_type": "execute_result"
    }
   ],
   "source": [
    "grid.groupby(['STATE_INPUT_SIZE', 'HIDDEN_LAYERS','HIDDEN_SIZE', 'GAMMA']).AVERAGE_REWARD_10000.mean()"
   ]
  },
  {
   "cell_type": "code",
   "execution_count": null,
   "metadata": {
    "collapsed": true
   },
   "outputs": [],
   "source": []
  }
 ],
 "metadata": {
  "kernelspec": {
   "display_name": "Python 3",
   "language": "python",
   "name": "python3"
  },
  "language_info": {
   "codemirror_mode": {
    "name": "ipython",
    "version": 3
   },
   "file_extension": ".py",
   "mimetype": "text/x-python",
   "name": "python",
   "nbconvert_exporter": "python",
   "pygments_lexer": "ipython3",
   "version": "3.6.1"
  }
 },
 "nbformat": 4,
 "nbformat_minor": 2
}
