{
 "cells": [
  {
   "cell_type": "code",
   "execution_count": 113,
   "metadata": {
    "collapsed": true
   },
   "outputs": [],
   "source": [
    "import tensorflow as tf\n",
    "import pandas as pd\n",
    "import sklearn"
   ]
  },
  {
   "cell_type": "code",
   "execution_count": 114,
   "metadata": {
    "collapsed": true
   },
   "outputs": [],
   "source": [
    "#Initializing \n",
    "tf.reset_default_graph()\n"
   ]
  },
  {
   "cell_type": "code",
   "execution_count": 115,
   "metadata": {},
   "outputs": [],
   "source": [
    "acts_rep_table = pd.read_csv('../data/acts_rep_table.csv')"
   ]
  },
  {
   "cell_type": "code",
   "execution_count": 116,
   "metadata": {},
   "outputs": [
    {
     "data": {
      "text/html": [
       "<div>\n",
       "<style>\n",
       "    .dataframe thead tr:only-child th {\n",
       "        text-align: right;\n",
       "    }\n",
       "\n",
       "    .dataframe thead th {\n",
       "        text-align: left;\n",
       "    }\n",
       "\n",
       "    .dataframe tbody tr th {\n",
       "        vertical-align: top;\n",
       "    }\n",
       "</style>\n",
       "<table border=\"1\" class=\"dataframe\">\n",
       "  <thead>\n",
       "    <tr style=\"text-align: right;\">\n",
       "      <th></th>\n",
       "      <th>label</th>\n",
       "      <th>1</th>\n",
       "      <th>2</th>\n",
       "      <th>3</th>\n",
       "      <th>4</th>\n",
       "      <th>5</th>\n",
       "      <th>6</th>\n",
       "      <th>7</th>\n",
       "      <th>8</th>\n",
       "      <th>9</th>\n",
       "      <th>...</th>\n",
       "      <th>23</th>\n",
       "      <th>24</th>\n",
       "      <th>25</th>\n",
       "      <th>26</th>\n",
       "      <th>27</th>\n",
       "      <th>28</th>\n",
       "      <th>29</th>\n",
       "      <th>30</th>\n",
       "      <th>31</th>\n",
       "      <th>32</th>\n",
       "    </tr>\n",
       "  </thead>\n",
       "  <tbody>\n",
       "    <tr>\n",
       "      <th>0</th>\n",
       "      <td>2</td>\n",
       "      <td>8648</td>\n",
       "      <td>8648</td>\n",
       "      <td>10</td>\n",
       "      <td>2</td>\n",
       "      <td>2</td>\n",
       "      <td>3</td>\n",
       "      <td>8148</td>\n",
       "      <td>0</td>\n",
       "      <td>3692</td>\n",
       "      <td>...</td>\n",
       "      <td>0</td>\n",
       "      <td>0</td>\n",
       "      <td>0</td>\n",
       "      <td>0</td>\n",
       "      <td>0</td>\n",
       "      <td>0</td>\n",
       "      <td>0</td>\n",
       "      <td>0</td>\n",
       "      <td>0</td>\n",
       "      <td>0</td>\n",
       "    </tr>\n",
       "    <tr>\n",
       "      <th>1</th>\n",
       "      <td>7</td>\n",
       "      <td>8648</td>\n",
       "      <td>2</td>\n",
       "      <td>10</td>\n",
       "      <td>2</td>\n",
       "      <td>2</td>\n",
       "      <td>3</td>\n",
       "      <td>8148</td>\n",
       "      <td>0</td>\n",
       "      <td>3692</td>\n",
       "      <td>...</td>\n",
       "      <td>0</td>\n",
       "      <td>0</td>\n",
       "      <td>0</td>\n",
       "      <td>0</td>\n",
       "      <td>0</td>\n",
       "      <td>0</td>\n",
       "      <td>0</td>\n",
       "      <td>0</td>\n",
       "      <td>0</td>\n",
       "      <td>0</td>\n",
       "    </tr>\n",
       "    <tr>\n",
       "      <th>2</th>\n",
       "      <td>2</td>\n",
       "      <td>8648</td>\n",
       "      <td>8648</td>\n",
       "      <td>10</td>\n",
       "      <td>2</td>\n",
       "      <td>2</td>\n",
       "      <td>3</td>\n",
       "      <td>8148</td>\n",
       "      <td>0</td>\n",
       "      <td>3692</td>\n",
       "      <td>...</td>\n",
       "      <td>0</td>\n",
       "      <td>0</td>\n",
       "      <td>0</td>\n",
       "      <td>0</td>\n",
       "      <td>0</td>\n",
       "      <td>0</td>\n",
       "      <td>0</td>\n",
       "      <td>0</td>\n",
       "      <td>0</td>\n",
       "      <td>0</td>\n",
       "    </tr>\n",
       "    <tr>\n",
       "      <th>3</th>\n",
       "      <td>7</td>\n",
       "      <td>8648</td>\n",
       "      <td>8648</td>\n",
       "      <td>10</td>\n",
       "      <td>2</td>\n",
       "      <td>2</td>\n",
       "      <td>3</td>\n",
       "      <td>8148</td>\n",
       "      <td>0</td>\n",
       "      <td>3692</td>\n",
       "      <td>...</td>\n",
       "      <td>0</td>\n",
       "      <td>0</td>\n",
       "      <td>0</td>\n",
       "      <td>0</td>\n",
       "      <td>0</td>\n",
       "      <td>0</td>\n",
       "      <td>0</td>\n",
       "      <td>0</td>\n",
       "      <td>0</td>\n",
       "      <td>0</td>\n",
       "    </tr>\n",
       "    <tr>\n",
       "      <th>4</th>\n",
       "      <td>7</td>\n",
       "      <td>8648</td>\n",
       "      <td>8648</td>\n",
       "      <td>10</td>\n",
       "      <td>2</td>\n",
       "      <td>2</td>\n",
       "      <td>3</td>\n",
       "      <td>8148</td>\n",
       "      <td>0</td>\n",
       "      <td>3692</td>\n",
       "      <td>...</td>\n",
       "      <td>0</td>\n",
       "      <td>0</td>\n",
       "      <td>0</td>\n",
       "      <td>0</td>\n",
       "      <td>0</td>\n",
       "      <td>0</td>\n",
       "      <td>0</td>\n",
       "      <td>0</td>\n",
       "      <td>0</td>\n",
       "      <td>0</td>\n",
       "    </tr>\n",
       "  </tbody>\n",
       "</table>\n",
       "<p>5 rows × 33 columns</p>\n",
       "</div>"
      ],
      "text/plain": [
       "   label     1     2   3  4  5  6     7  8     9 ...  23  24  25  26  27  28  \\\n",
       "0      2  8648  8648  10  2  2  3  8148  0  3692 ...   0   0   0   0   0   0   \n",
       "1      7  8648     2  10  2  2  3  8148  0  3692 ...   0   0   0   0   0   0   \n",
       "2      2  8648  8648  10  2  2  3  8148  0  3692 ...   0   0   0   0   0   0   \n",
       "3      7  8648  8648  10  2  2  3  8148  0  3692 ...   0   0   0   0   0   0   \n",
       "4      7  8648  8648  10  2  2  3  8148  0  3692 ...   0   0   0   0   0   0   \n",
       "\n",
       "   29  30  31  32  \n",
       "0   0   0   0   0  \n",
       "1   0   0   0   0  \n",
       "2   0   0   0   0  \n",
       "3   0   0   0   0  \n",
       "4   0   0   0   0  \n",
       "\n",
       "[5 rows x 33 columns]"
      ]
     },
     "execution_count": 116,
     "metadata": {},
     "output_type": "execute_result"
    }
   ],
   "source": [
    "acts_rep_table.head()"
   ]
  },
  {
   "cell_type": "code",
   "execution_count": 117,
   "metadata": {},
   "outputs": [],
   "source": [
    "INPUT_DIM = X.shape[1] #Input dimensions\n",
    "H_SIZE = 10 #Number of hidden layer neurons\n",
    "ETA = 1e-2 #Learning Rate\n",
    "OUTPUT_DIM = y.max() + 1"
   ]
  },
  {
   "cell_type": "code",
   "execution_count": 118,
   "metadata": {},
   "outputs": [],
   "source": [
    "input_x = tf.placeholder(tf.float32, [None,INPUT_DIM] , name=\"input_x\")\n",
    "\n",
    "W1 = tf.get_variable(\"W1\", shape=[INPUT_DIM, H_SIZE],\n",
    "           initializer=tf.contrib.layers.xavier_initializer())\n",
    "layer1 = tf.nn.relu(tf.matmul(input_x,W1))\n",
    "W2 = tf.get_variable(\"W2\", shape=[H_SIZE, OUTPUT_DIM],\n",
    "           initializer=tf.contrib.layers.xavier_initializer())\n",
    "y_predicted = tf.matmul(layer1,W2)\n"
   ]
  },
  {
   "cell_type": "code",
   "execution_count": 119,
   "metadata": {},
   "outputs": [],
   "source": [
    "input_y = tf.placeholder(tf.float32,[None,OUTPUT_DIM], name=\"input_y\")\n"
   ]
  },
  {
   "cell_type": "code",
   "execution_count": 120,
   "metadata": {
    "collapsed": true
   },
   "outputs": [],
   "source": [
    "ce1 = tf.nn.softmax_cross_entropy_with_logits(logits=y_predicted, labels=input_y)\n",
    "adam = tf.train.AdamOptimizer(learning_rate=ETA)\n",
    "train_step = adam.minimize(ce1)"
   ]
  },
  {
   "cell_type": "code",
   "execution_count": 121,
   "metadata": {
    "collapsed": true
   },
   "outputs": [],
   "source": [
    "correct_prediction = tf.equal(tf.argmax(y_predicted, 1), tf.argmax(input_y, 1))\n",
    "accuracy = tf.reduce_mean(tf.cast(correct_prediction, tf.float32))\n"
   ]
  },
  {
   "cell_type": "code",
   "execution_count": 132,
   "metadata": {},
   "outputs": [
    {
     "name": "stdout",
     "output_type": "stream",
     "text": [
      "batch 0, training accuracy 0.2\n",
      "batch 500, training accuracy 0.1\n",
      "batch 1000, training accuracy 0.1\n",
      "batch 1500, training accuracy 0\n",
      "batch 2000, training accuracy 0\n",
      "batch 2500, training accuracy 0.1\n",
      "batch 3000, training accuracy 0.1\n",
      "batch 3500, training accuracy 0\n",
      "batch 4000, training accuracy 0\n",
      "batch 4500, training accuracy 0\n",
      "overall accuracy 0.0488722\n"
     ]
    }
   ],
   "source": [
    "BATCH_SIZE = 10\n",
    "BATCHES = 5000\n",
    "\n",
    "def feed_dict_from_df(bdf):\n",
    "    xs, ys = [], []\n",
    "    X = bdf.drop('label', axis = 1)\n",
    "    y = bdf.label\n",
    "    for i in range(bdf.shape[0]):\n",
    "        xs.append(X.iloc[i].values)\n",
    "        y_hot = [0]*OUTPUT_DIM\n",
    "        y_hot[y.iloc[i]] = 1\n",
    "        ys.append(y_hot)\n",
    "    return xs, ys\n",
    "        \n",
    "with tf.Session() as sess:\n",
    "    sess.run(tf.global_variables_initializer())\n",
    "    for batch in range(BATCHES):\n",
    "        bdf = acts_rep_table.sample(BATCH_SIZE)\n",
    "        xs, ys = feed_dict_from_df(bdf)\n",
    "        sess.run(train_step, feed_dict={input_x: xs, input_y: ys})\n",
    "        if batch % (BATCHES/10) == 0:\n",
    "            train_accuracy = accuracy.eval(feed_dict={input_x: xs, input_y: ys})\n",
    "            print('batch %d, training accuracy %g' % (batch, train_accuracy))\n",
    "    xs, ys = feed_dict_from_df(acts_rep_table)\n",
    "    test_accuracy = accuracy.eval(feed_dict={input_x: xs, input_y: ys})\n",
    "    print('overall accuracy %g' % (test_accuracy))\n"
   ]
  },
  {
   "cell_type": "code",
   "execution_count": null,
   "metadata": {},
   "outputs": [],
   "source": []
  },
  {
   "cell_type": "code",
   "execution_count": null,
   "metadata": {
    "collapsed": true
   },
   "outputs": [],
   "source": []
  }
 ],
 "metadata": {
  "kernelspec": {
   "display_name": "Python 3",
   "language": "python",
   "name": "python3"
  },
  "language_info": {
   "codemirror_mode": {
    "name": "ipython",
    "version": 3
   },
   "file_extension": ".py",
   "mimetype": "text/x-python",
   "name": "python",
   "nbconvert_exporter": "python",
   "pygments_lexer": "ipython3",
   "version": "3.6.1"
  }
 },
 "nbformat": 4,
 "nbformat_minor": 2
}
