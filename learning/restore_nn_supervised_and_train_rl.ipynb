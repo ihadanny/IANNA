{
 "cells": [
  {
   "cell_type": "code",
   "execution_count": 1,
   "metadata": {
    "collapsed": true
   },
   "outputs": [],
   "source": [
    "import sys\n",
    "sys.path.append(\"../\")"
   ]
  },
  {
   "cell_type": "code",
   "execution_count": 2,
   "metadata": {
    "collapsed": true
   },
   "outputs": [],
   "source": [
    "import numpy as np\n",
    "import gym\n",
    "from gym_ianna.envs.ianna_env import IANNAEnv\n",
    "import tensorflow as tf\n",
    "import scipy as sp\n"
   ]
  },
  {
   "cell_type": "code",
   "execution_count": 3,
   "metadata": {},
   "outputs": [
    {
     "data": {
      "text/plain": [
       "('0.19.0',\n",
       " '/home/ihadanny/anaconda2/envs/py3k/lib/python3.6/site-packages/scipy/__init__.py')"
      ]
     },
     "execution_count": 3,
     "metadata": {},
     "output_type": "execute_result"
    }
   ],
   "source": [
    "sp.__version__, sp.__file__"
   ]
  },
  {
   "cell_type": "code",
   "execution_count": 4,
   "metadata": {},
   "outputs": [
    {
     "data": {
      "text/plain": [
       "'/home/ihadanny/src/IANNA/gym_ianna/envs/ianna_env.py'"
      ]
     },
     "execution_count": 4,
     "metadata": {},
     "output_type": "execute_result"
    }
   ],
   "source": [
    "import gym_ianna.envs.ianna_env as ianna_env\n",
    "\n",
    "ianna_env.__file__"
   ]
  },
  {
   "cell_type": "code",
   "execution_count": 5,
   "metadata": {
    "collapsed": true
   },
   "outputs": [],
   "source": [
    "env_d = 'IANNA-v0'\n",
    "#env_d = 'CartPole-v0'\n",
    "\n",
    "#env params\n",
    "if env_d == 'IANNA-v0':\n",
    "    START_STATE_FROM = 0 # last 15 bits of the IANNA state are the groupby bits\n",
    "    OP_NUMBER = 15          # how many fields can we turn on\n",
    "    STATE_INPUT_SIZE = 51   # how many fields can we observe \n",
    "    MAX_STEPS = 7          # how many steps must we play in each episode\n",
    "\n",
    "if env_d == 'CartPole-v0':\n",
    "    OP_NUMBER = 2\n",
    "    STATE_INPUT_SIZE = 4\n",
    "    MAX_STEPS = 200\n",
    "\n",
    "#nn params\n",
    "HIDDEN_SIZE = 30\n",
    "\n",
    "#discount rewards params\n",
    "GAMMA = 0.99\n",
    "\n",
    "#ADAM Optimizer hyper-parameters:\n",
    "LEARNING_RATE = 0.01\n",
    "B1 = 0.8\n",
    "B2= 0.999\n",
    "EPSILON=1e-6\n",
    "\n",
    "#learning params\n",
    "TOTAL_EPISODES = 1000\n",
    "BATCH_NUMBER = 20\n",
    "DISPLAY_FREQ = 100\n"
   ]
  },
  {
   "cell_type": "code",
   "execution_count": 6,
   "metadata": {
    "collapsed": true
   },
   "outputs": [],
   "source": [
    "#Initializing \n",
    "tf.reset_default_graph()\n",
    "\n",
    "W1 = tf.get_variable(shape=[HIDDEN_SIZE,STATE_INPUT_SIZE],name='w1',\n",
    "                      initializer=tf.contrib.layers.xavier_initializer())\n",
    "W2 = tf.get_variable(shape=[HIDDEN_SIZE,HIDDEN_SIZE],name='w2',\n",
    "                      initializer=tf.contrib.layers.xavier_initializer())\n",
    "W3 = tf.get_variable(shape=[OP_NUMBER,HIDDEN_SIZE],name='w3',\n",
    "                      initializer=tf.contrib.layers.xavier_initializer())\n",
    "\n",
    "b1 = tf.get_variable(shape=[HIDDEN_SIZE,1],name='b1',\n",
    "                      initializer=tf.contrib.layers.xavier_initializer())\n",
    "b2 = tf.get_variable(shape=[HIDDEN_SIZE,1],name='b2',\n",
    "                      initializer=tf.contrib.layers.xavier_initializer())\n",
    "b3 = tf.get_variable(shape=[OP_NUMBER,1],name='b3',\n",
    "                      initializer=tf.contrib.layers.xavier_initializer())\n",
    "\n",
    "#Layers:\n",
    "x = tf.placeholder(tf.float32, shape=[STATE_INPUT_SIZE,None],name='x')\n",
    "h1 = tf.tanh(tf.matmul(W1,x) + b1)\n",
    "h2 = tf.tanh(tf.matmul(W2,h1) + b2)\n",
    "y = tf.nn.softmax(tf.matmul(W3,h2) + b3,dim=0)\n"
   ]
  },
  {
   "cell_type": "code",
   "execution_count": 7,
   "metadata": {
    "collapsed": true
   },
   "outputs": [],
   "source": [
    "saver = tf.train.Saver()\n",
    "sess = tf.InteractiveSession()\n",
    "\n"
   ]
  },
  {
   "cell_type": "code",
   "execution_count": 8,
   "metadata": {},
   "outputs": [
    {
     "name": "stderr",
     "output_type": "stream",
     "text": [
      "/home/ihadanny/anaconda2/envs/py3k/lib/python3.6/site-packages/tensorflow/python/ops/gradients_impl.py:93: UserWarning: Converting sparse IndexedSlices to a dense Tensor of unknown shape. This may consume a large amount of memory.\n",
      "  \"Converting sparse IndexedSlices to a dense Tensor of unknown shape. \"\n"
     ]
    }
   ],
   "source": [
    "#Loss function:\n",
    "curr_reward = tf.placeholder(shape=[None],dtype=tf.float32)\n",
    "actions_array = tf.placeholder(shape=[None],dtype=tf.int32)\n",
    "pai_array = tf.gather(y,actions_array)\n",
    "L = -tf.reduce_mean(tf.log(pai_array)*curr_reward)\n",
    "gradient_holders = []\n",
    "gradients = tf.gradients(L,tf.trainable_variables())\n"
   ]
  },
  {
   "cell_type": "code",
   "execution_count": 9,
   "metadata": {
    "collapsed": true
   },
   "outputs": [],
   "source": [
    "tvars = tf.trainable_variables()\n",
    "#Initialize gradient lists for each trainable variable:\n",
    "for idx,var in enumerate(tvars):\n",
    "    placeholder = tf.placeholder(tf.float32,name=str(idx)+'_holder')\n",
    "    gradient_holders.append(placeholder)"
   ]
  },
  {
   "cell_type": "code",
   "execution_count": 10,
   "metadata": {
    "collapsed": true
   },
   "outputs": [],
   "source": [
    "\n",
    "#Update mechanism:\n",
    "adam = tf.train.AdamOptimizer(learning_rate=LEARNING_RATE,beta1=B1,beta2=B2,epsilon=EPSILON)\n",
    "update_batch = adam.apply_gradients(zip(gradient_holders,tvars))\n"
   ]
  },
  {
   "cell_type": "code",
   "execution_count": 11,
   "metadata": {
    "collapsed": true
   },
   "outputs": [],
   "source": [
    "# grad buffer is initialized to all zeros. \n",
    "# It's used to accumulate the gradients and is a regular variable, NOT a tf variable\n",
    "init = tf.global_variables_initializer()\n",
    "sess.run(init)\n",
    "#saver.restore(sess, \"../models/ianna-nn-supervised\")\n",
    "\n",
    "grad_buffer = sess.run(tf.trainable_variables())\n",
    "\n",
    "def reset_grad_buffer():\n",
    "    for ix,grad in enumerate(grad_buffer):\n",
    "        grad_buffer[ix] = grad * 0\n"
   ]
  },
  {
   "cell_type": "code",
   "execution_count": 12,
   "metadata": {
    "collapsed": true
   },
   "outputs": [],
   "source": [
    "def get_action(sess,observation):\n",
    "    \"\"\"\n",
    "    Given an observation, return action sampled according to the probabilities of the NN output\n",
    "    \"\"\"\n",
    "    a_dist = sess.run(y,feed_dict={x:np.reshape(observation,(STATE_INPUT_SIZE, 1))})\n",
    "    a = np.random.choice(range(OP_NUMBER),p=a_dist.reshape((OP_NUMBER)))        \n",
    "    return a\n"
   ]
  },
  {
   "cell_type": "code",
   "execution_count": 13,
   "metadata": {
    "collapsed": true
   },
   "outputs": [],
   "source": [
    "def train(sess,cur_states_array,cur_actions_array,cur_curr_reward):\n",
    "    \"\"\"\n",
    "    NN training procedure: Given arrays of states(observations),\n",
    "    actions and rewards it computes the derivatives of the loss function\n",
    "    then add the derivation values to the buffer \n",
    "    \"\"\"\n",
    "\n",
    "    G = sess.run(gradients,feed_dict={x:cur_states_array,actions_array:cur_actions_array,curr_reward:cur_curr_reward})\n",
    "    for idx,grad in enumerate(G):\n",
    "        grad_buffer[idx] += grad\n"
   ]
  },
  {
   "cell_type": "code",
   "execution_count": 14,
   "metadata": {
    "collapsed": true
   },
   "outputs": [],
   "source": [
    "def update(sess):\n",
    "    \"\"\"\n",
    "    NN update procedure: apply the gradients to the NN variables\n",
    "    \"\"\"\n",
    "    feed_dict = dict(zip(gradient_holders, grad_buffer))\n",
    "    _ = sess.run(update_batch, feed_dict=feed_dict)\n"
   ]
  },
  {
   "cell_type": "code",
   "execution_count": 15,
   "metadata": {
    "collapsed": true
   },
   "outputs": [],
   "source": [
    "#        IANNA actions would be:\n",
    "#        0) action_type:            back[0], filter[1], group[2]\n",
    "#        1) col_id:                 [0..num_of_columns-1]\n",
    "#        2) filter_operator:        LT[0], GT[1] if the selected column was numeric (maybe change semantics if column is STR?)\n",
    "#        3) filter_decile:          [0..9] the filter operand  \n",
    "#        4) aggregation column_id:  [0..num_of_columns - 1] (what do we do if the selected col is also grouped_by?)\n",
    "#        5) aggregation type:       MEAN[0], COUNT[1], SUM[2], MIN[3], MAX[4]\n",
    "\n",
    "def build_ianna_action_from_grouped_by_field(grouped_by_field):\n",
    "    action = [2, grouped_by_field, 0, 0, 0, 0]\n",
    "    return action"
   ]
  },
  {
   "cell_type": "code",
   "execution_count": 16,
   "metadata": {
    "collapsed": true
   },
   "outputs": [],
   "source": [
    "def project_state_to_nn_input(x):\n",
    "    return x[START_STATE_FROM:START_STATE_FROM+STATE_INPUT_SIZE]"
   ]
  },
  {
   "cell_type": "code",
   "execution_count": 17,
   "metadata": {
    "collapsed": true
   },
   "outputs": [],
   "source": [
    "\n",
    "def discount_rewards(arr):\n",
    "    \"\"\"\n",
    "    Helper function for computing discounted rewards,\n",
    "    then the delayed rewards are normalized by the mean and std as requested.\n",
    "    \"\"\"\n",
    "    discounts = np.zeros_like(arr)\n",
    "    reward = 0\n",
    "    for i in reversed(range(arr.size)):\n",
    "        reward=GAMMA*(arr[i]+reward)\n",
    "        discounts[i] = reward\n",
    "    # following 3 lines destroy everything when the game is really simple: \n",
    "    # pick 4 fields out of 5 without repeating yourself\n",
    "    #mean = np.mean(discounts,keepdims=True)\n",
    "    #discounts = discounts - mean\n",
    "    #discounts = discounts/ np.std(discounts)\n",
    "    return discounts\n"
   ]
  },
  {
   "cell_type": "code",
   "execution_count": 18,
   "metadata": {},
   "outputs": [
    {
     "name": "stderr",
     "output_type": "stream",
     "text": [
      "[2017-09-29 11:48:57,046] Making new env: IANNA-v0\n"
     ]
    },
    {
     "name": "stdout",
     "output_type": "stream",
     "text": [
      "reading input /home/ihadanny/src/IANNA/gym_ianna/envs/../../Data_manipulation/raw_datasets/1.tsv\n",
      "(8648, 15)\n",
      "by_all [  3.44156700e-02   3.44156700e-02   3.90794293e-02   9.88289516e-01\n",
      "   8.50589800e-01   8.68269483e-02   5.40944101e-02   1.00000000e+00\n",
      "   5.23395009e-01   4.81127236e-01   5.60831487e-01   7.59601617e-01\n",
      "   2.31267345e-04   2.31267345e-04   3.46901018e-04   9.42298797e-01\n",
      "   4.27001388e-01   2.09393799e-02   1.15633673e-03   1.00000000e+00\n",
      "   1.36447734e-02   1.62357808e-01   2.15098242e-01   2.12215321e-01\n",
      "   8.64800000e+03   8.64800000e+03   8.64800000e+03   0.00000000e+00\n",
      "   0.00000000e+00   0.00000000e+00   0.00000000e+00   0.00000000e+00\n",
      "   0.00000000e+00   0.00000000e+00   0.00000000e+00   0.00000000e+00\n",
      "   0.00000000e+00   0.00000000e+00   0.00000000e+00   1.00000000e+00\n",
      "   1.00000000e+00   1.00000000e+00   1.00000000e+00   1.00000000e+00\n",
      "   1.00000000e+00   1.00000000e+00   1.00000000e+00   1.00000000e+00\n",
      "   1.00000000e+00   1.00000000e+00   1.00000000e+00]\n",
      "by_none [  3.44156700e-02   3.44156700e-02   3.90794293e-02   9.88289516e-01\n",
      "   8.50589800e-01   8.68269483e-02   5.40944101e-02   1.00000000e+00\n",
      "   5.23395009e-01   4.81127236e-01   5.60831487e-01   7.59601617e-01\n",
      "   2.31267345e-04   2.31267345e-04   3.46901018e-04   9.42298797e-01\n",
      "   4.27001388e-01   2.09393799e-02   1.15633673e-03   1.00000000e+00\n",
      "   1.36447734e-02   1.62357808e-01   2.15098242e-01   2.12215321e-01\n",
      "   0.00000000e+00   0.00000000e+00   0.00000000e+00   0.00000000e+00\n",
      "   0.00000000e+00   0.00000000e+00   0.00000000e+00   0.00000000e+00\n",
      "   0.00000000e+00   0.00000000e+00   0.00000000e+00   0.00000000e+00\n",
      "   0.00000000e+00   0.00000000e+00   0.00000000e+00   0.00000000e+00\n",
      "   0.00000000e+00   0.00000000e+00   0.00000000e+00   0.00000000e+00\n",
      "   0.00000000e+00   0.00000000e+00   0.00000000e+00   0.00000000e+00\n",
      "   0.00000000e+00   0.00000000e+00   0.00000000e+00]\n",
      "observation space from [ 0.  0.  0.  0.  0.  0.  0.  0.  0.  0.  0.  0.  0.  0.  0.  0.  0.  0.\n",
      "  0.  0.  0.  0.  0.  0.  0.  0.  0.  0.  0.  0.  0.  0.  0.  0.  0.  0.\n",
      "  0.  0.  0.  0.  0.  0.  0.  0.  0.  0.  0.  0.  0.  0.  0.] to [  3.44156700e-02   3.44156700e-02   3.90794293e-02   9.88289516e-01\n",
      "   8.50589800e-01   8.68269483e-02   5.40944101e-02   1.00000000e+00\n",
      "   5.23395009e-01   4.81127236e-01   5.60831487e-01   7.59601617e-01\n",
      "   2.31267345e-04   2.31267345e-04   3.46901018e-04   9.42298797e-01\n",
      "   4.27001388e-01   2.09393799e-02   1.15633673e-03   1.00000000e+00\n",
      "   1.36447734e-02   1.62357808e-01   2.15098242e-01   2.12215321e-01\n",
      "   8.64800000e+03   8.64800000e+03   8.64800000e+03   0.00000000e+00\n",
      "   0.00000000e+00   0.00000000e+00   0.00000000e+00   0.00000000e+00\n",
      "   0.00000000e+00   0.00000000e+00   0.00000000e+00   0.00000000e+00\n",
      "   0.00000000e+00   0.00000000e+00   0.00000000e+00   1.00000000e+00\n",
      "   1.00000000e+00   1.00000000e+00   1.00000000e+00   1.00000000e+00\n",
      "   1.00000000e+00   1.00000000e+00   1.00000000e+00   1.00000000e+00\n",
      "   1.00000000e+00   1.00000000e+00   1.00000000e+00] shape (51,)\n",
      "action space MultiDiscrete6\n"
     ]
    }
   ],
   "source": [
    "\n",
    "env = gym.make(env_d)\n",
    "total_episodes=TOTAL_EPISODES\n",
    "batch_number = BATCH_NUMBER\n",
    "\n"
   ]
  },
  {
   "cell_type": "code",
   "execution_count": 19,
   "metadata": {
    "collapsed": true
   },
   "outputs": [],
   "source": [
    "episode_number = 0\n",
    "\n",
    "rewards = []\n",
    "steps=[]\n",
    "max_reward=0\n",
    "\n",
    "reset_grad_buffer()"
   ]
  },
  {
   "cell_type": "code",
   "execution_count": 20,
   "metadata": {},
   "outputs": [
    {
     "name": "stdout",
     "output_type": "stream",
     "text": [
      "\t\t\tCurr Max mean reward per batch: 2.3\n",
      "\t\t\tCurr Max mean reward per batch: 2.4\n",
      "\t\t\tCurr Max mean reward per batch: 2.45\n"
     ]
    },
    {
     "ename": "KeyboardInterrupt",
     "evalue": "",
     "output_type": "error",
     "traceback": [
      "\u001b[0;31m---------------------------------------------------------------------------\u001b[0m",
      "\u001b[0;31mKeyboardInterrupt\u001b[0m                         Traceback (most recent call last)",
      "\u001b[0;32m<ipython-input-20-0925a35644f5>\u001b[0m in \u001b[0;36m<module>\u001b[0;34m()\u001b[0m\n\u001b[1;32m     14\u001b[0m             \u001b[0;32mif\u001b[0m \u001b[0menv_d\u001b[0m \u001b[0;34m==\u001b[0m \u001b[0;34m'IANNA-v0'\u001b[0m\u001b[0;34m:\u001b[0m\u001b[0;34m\u001b[0m\u001b[0m\n\u001b[1;32m     15\u001b[0m                 \u001b[0mcomplex_action\u001b[0m \u001b[0;34m=\u001b[0m \u001b[0mbuild_ianna_action_from_grouped_by_field\u001b[0m\u001b[0;34m(\u001b[0m\u001b[0maction\u001b[0m\u001b[0;34m)\u001b[0m\u001b[0;34m\u001b[0m\u001b[0m\n\u001b[0;32m---> 16\u001b[0;31m                 \u001b[0mobsrv1\u001b[0m\u001b[0;34m,\u001b[0m \u001b[0mreward\u001b[0m\u001b[0;34m,\u001b[0m \u001b[0mdone\u001b[0m\u001b[0;34m,\u001b[0m \u001b[0minfo\u001b[0m \u001b[0;34m=\u001b[0m \u001b[0menv\u001b[0m\u001b[0;34m.\u001b[0m\u001b[0mstep\u001b[0m\u001b[0;34m(\u001b[0m\u001b[0mcomplex_action\u001b[0m\u001b[0;34m)\u001b[0m\u001b[0;34m\u001b[0m\u001b[0m\n\u001b[0m\u001b[1;32m     17\u001b[0m             \u001b[0;32melse\u001b[0m\u001b[0;34m:\u001b[0m\u001b[0;34m\u001b[0m\u001b[0m\n\u001b[1;32m     18\u001b[0m                 \u001b[0mobsrv1\u001b[0m\u001b[0;34m,\u001b[0m \u001b[0mreward\u001b[0m\u001b[0;34m,\u001b[0m \u001b[0mdone\u001b[0m\u001b[0;34m,\u001b[0m \u001b[0minfo\u001b[0m \u001b[0;34m=\u001b[0m \u001b[0menv\u001b[0m\u001b[0;34m.\u001b[0m\u001b[0mstep\u001b[0m\u001b[0;34m(\u001b[0m\u001b[0maction\u001b[0m\u001b[0;34m)\u001b[0m\u001b[0;34m\u001b[0m\u001b[0m\n",
      "\u001b[0;32m/home/ihadanny/src/gym/gym/core.py\u001b[0m in \u001b[0;36mstep\u001b[0;34m(self, action)\u001b[0m\n\u001b[1;32m     97\u001b[0m             \u001b[0minfo\u001b[0m \u001b[0;34m(\u001b[0m\u001b[0mdict\u001b[0m\u001b[0;34m)\u001b[0m\u001b[0;34m:\u001b[0m \u001b[0mcontains\u001b[0m \u001b[0mauxiliary\u001b[0m \u001b[0mdiagnostic\u001b[0m \u001b[0minformation\u001b[0m \u001b[0;34m(\u001b[0m\u001b[0mhelpful\u001b[0m \u001b[0;32mfor\u001b[0m \u001b[0mdebugging\u001b[0m\u001b[0;34m,\u001b[0m \u001b[0;32mand\u001b[0m \u001b[0msometimes\u001b[0m \u001b[0mlearning\u001b[0m\u001b[0;34m)\u001b[0m\u001b[0;34m\u001b[0m\u001b[0m\n\u001b[1;32m     98\u001b[0m         \"\"\"\n\u001b[0;32m---> 99\u001b[0;31m         \u001b[0;32mreturn\u001b[0m \u001b[0mself\u001b[0m\u001b[0;34m.\u001b[0m\u001b[0m_step\u001b[0m\u001b[0;34m(\u001b[0m\u001b[0maction\u001b[0m\u001b[0;34m)\u001b[0m\u001b[0;34m\u001b[0m\u001b[0m\n\u001b[0m\u001b[1;32m    100\u001b[0m \u001b[0;34m\u001b[0m\u001b[0m\n\u001b[1;32m    101\u001b[0m     \u001b[0;32mdef\u001b[0m \u001b[0mreset\u001b[0m\u001b[0;34m(\u001b[0m\u001b[0mself\u001b[0m\u001b[0;34m)\u001b[0m\u001b[0;34m:\u001b[0m\u001b[0;34m\u001b[0m\u001b[0m\n",
      "\u001b[0;32m/home/ihadanny/src/IANNA/gym_ianna/envs/ianna_env.py\u001b[0m in \u001b[0;36m_step\u001b[0;34m(self, action)\u001b[0m\n\u001b[1;32m    188\u001b[0m                 \u001b[0;32mraise\u001b[0m \u001b[0mException\u001b[0m\u001b[0;34m(\u001b[0m\u001b[0;34m\"unknown operator type: \"\u001b[0m \u001b[0;34m+\u001b[0m \u001b[0moperator_type\u001b[0m\u001b[0;34m)\u001b[0m\u001b[0;34m\u001b[0m\u001b[0m\n\u001b[1;32m    189\u001b[0m \u001b[0;34m\u001b[0m\u001b[0m\n\u001b[0;32m--> 190\u001b[0;31m         \u001b[0mobs\u001b[0m \u001b[0;34m=\u001b[0m \u001b[0mnp\u001b[0m\u001b[0;34m.\u001b[0m\u001b[0marray\u001b[0m\u001b[0;34m(\u001b[0m\u001b[0mself\u001b[0m\u001b[0;34m.\u001b[0m\u001b[0mget_state_rep\u001b[0m\u001b[0;34m(\u001b[0m\u001b[0mself\u001b[0m\u001b[0;34m.\u001b[0m\u001b[0mdata\u001b[0m\u001b[0;34m,\u001b[0m \u001b[0mself\u001b[0m\u001b[0;34m.\u001b[0m\u001b[0mgrouped_by\u001b[0m\u001b[0;34m)\u001b[0m\u001b[0;34m)\u001b[0m\u001b[0;34m\u001b[0m\u001b[0m\n\u001b[0m\u001b[1;32m    191\u001b[0m         \u001b[0;31m#print(obs, obs.shape)\u001b[0m\u001b[0;34m\u001b[0m\u001b[0;34m\u001b[0m\u001b[0m\n\u001b[1;32m    192\u001b[0m         \u001b[0;32massert\u001b[0m \u001b[0mself\u001b[0m\u001b[0;34m.\u001b[0m\u001b[0mobservation_space\u001b[0m\u001b[0;34m.\u001b[0m\u001b[0mcontains\u001b[0m\u001b[0;34m(\u001b[0m\u001b[0mobs\u001b[0m\u001b[0;34m)\u001b[0m\u001b[0;34m\u001b[0m\u001b[0m\n",
      "\u001b[0;32m/home/ihadanny/src/IANNA/gym_ianna/envs/ianna_env.py\u001b[0m in \u001b[0;36mget_state_rep\u001b[0;34m(self, df, grouped_by)\u001b[0m\n\u001b[1;32m    107\u001b[0m \u001b[0;34m\u001b[0m\u001b[0m\n\u001b[1;32m    108\u001b[0m     \u001b[0;32mdef\u001b[0m \u001b[0mget_state_rep\u001b[0m\u001b[0;34m(\u001b[0m\u001b[0mself\u001b[0m\u001b[0;34m,\u001b[0m \u001b[0mdf\u001b[0m\u001b[0;34m,\u001b[0m \u001b[0mgrouped_by\u001b[0m\u001b[0;34m)\u001b[0m\u001b[0;34m:\u001b[0m\u001b[0;34m\u001b[0m\u001b[0m\n\u001b[0;32m--> 109\u001b[0;31m         \u001b[0;32mreturn\u001b[0m \u001b[0mget_state_rep_from_dicts\u001b[0m\u001b[0;34m(\u001b[0m\u001b[0mself\u001b[0m\u001b[0;34m.\u001b[0m\u001b[0mcalc_data_layer\u001b[0m\u001b[0;34m(\u001b[0m\u001b[0mdf\u001b[0m\u001b[0;34m)\u001b[0m\u001b[0;34m,\u001b[0m \u001b[0mself\u001b[0m\u001b[0;34m.\u001b[0m\u001b[0mcalc_gran_layer\u001b[0m\u001b[0;34m(\u001b[0m\u001b[0mdf\u001b[0m\u001b[0;34m,\u001b[0m \u001b[0mgrouped_by\u001b[0m\u001b[0;34m)\u001b[0m\u001b[0;34m)\u001b[0m\u001b[0;34m\u001b[0m\u001b[0m\n\u001b[0m\u001b[1;32m    110\u001b[0m \u001b[0;34m\u001b[0m\u001b[0m\n\u001b[1;32m    111\u001b[0m     \u001b[0;32mdef\u001b[0m \u001b[0m__init__\u001b[0m\u001b[0;34m(\u001b[0m\u001b[0mself\u001b[0m\u001b[0;34m)\u001b[0m\u001b[0;34m:\u001b[0m\u001b[0;34m\u001b[0m\u001b[0m\n",
      "\u001b[0;32m/home/ihadanny/src/IANNA/gym_ianna/envs/ianna_env.py\u001b[0m in \u001b[0;36mcalc_gran_layer\u001b[0;34m(self, df, grouped_by)\u001b[0m\n\u001b[1;32m     97\u001b[0m     \u001b[0;32mdef\u001b[0m \u001b[0mcalc_gran_layer\u001b[0m\u001b[0;34m(\u001b[0m\u001b[0mself\u001b[0m\u001b[0;34m,\u001b[0m \u001b[0mdf\u001b[0m\u001b[0;34m,\u001b[0m \u001b[0mgrouped_by\u001b[0m\u001b[0;34m)\u001b[0m\u001b[0;34m:\u001b[0m\u001b[0;34m\u001b[0m\u001b[0m\n\u001b[1;32m     98\u001b[0m         \u001b[0mgroup_obj\u001b[0m\u001b[0;34m,\u001b[0m\u001b[0magg_df\u001b[0m \u001b[0;34m=\u001b[0m \u001b[0mself\u001b[0m\u001b[0;34m.\u001b[0m\u001b[0mget_groupby_df\u001b[0m\u001b[0;34m(\u001b[0m\u001b[0mdf\u001b[0m\u001b[0;34m,\u001b[0m \u001b[0mgrouped_by\u001b[0m\u001b[0;34m)\u001b[0m\u001b[0;34m\u001b[0m\u001b[0m\n\u001b[0;32m---> 99\u001b[0;31m         \u001b[0mr\u001b[0m \u001b[0;34m=\u001b[0m \u001b[0mself\u001b[0m\u001b[0;34m.\u001b[0m\u001b[0mget_grouping_measures\u001b[0m\u001b[0;34m(\u001b[0m\u001b[0mdf\u001b[0m\u001b[0;34m,\u001b[0m \u001b[0mgroup_obj\u001b[0m\u001b[0;34m,\u001b[0m\u001b[0magg_df\u001b[0m\u001b[0;34m)\u001b[0m\u001b[0;34m\u001b[0m\u001b[0m\n\u001b[0m\u001b[1;32m    100\u001b[0m         \u001b[0;31m#print(\"calc_gran_layer\", r)\u001b[0m\u001b[0;34m\u001b[0m\u001b[0;34m\u001b[0m\u001b[0m\n\u001b[1;32m    101\u001b[0m         \u001b[0;32mreturn\u001b[0m \u001b[0mr\u001b[0m\u001b[0;34m\u001b[0m\u001b[0m\n",
      "\u001b[0;32m/home/ihadanny/src/IANNA/gym_ianna/envs/ianna_env.py\u001b[0m in \u001b[0;36mget_grouping_measures\u001b[0;34m(self, df, group_obj, agg_df)\u001b[0m\n\u001b[1;32m     66\u001b[0m             \u001b[0;32mreturn\u001b[0m \u001b[0;32mNone\u001b[0m\u001b[0;34m\u001b[0m\u001b[0m\n\u001b[1;32m     67\u001b[0m         \u001b[0mB\u001b[0m\u001b[0;34m=\u001b[0m\u001b[0;36m20\u001b[0m\u001b[0;34m\u001b[0m\u001b[0m\n\u001b[0;32m---> 68\u001b[0;31m         \u001b[0mgroups_num\u001b[0m\u001b[0;34m=\u001b[0m\u001b[0mlen\u001b[0m\u001b[0;34m(\u001b[0m\u001b[0mgroup_obj\u001b[0m\u001b[0;34m)\u001b[0m\u001b[0;34m\u001b[0m\u001b[0m\n\u001b[0m\u001b[1;32m     69\u001b[0m         \u001b[0;32mif\u001b[0m \u001b[0mlen\u001b[0m\u001b[0;34m(\u001b[0m\u001b[0magg_df\u001b[0m\u001b[0;34m.\u001b[0m\u001b[0mnumber\u001b[0m\u001b[0;34m)\u001b[0m \u001b[0;34m==\u001b[0m \u001b[0;36m0\u001b[0m\u001b[0;34m:\u001b[0m\u001b[0;34m\u001b[0m\u001b[0m\n\u001b[1;32m     70\u001b[0m             \u001b[0;31m# no grouping\u001b[0m\u001b[0;34m\u001b[0m\u001b[0;34m\u001b[0m\u001b[0m\n",
      "\u001b[0;32m/home/ihadanny/anaconda2/envs/py3k/lib/python3.6/site-packages/pandas/core/groupby.py\u001b[0m in \u001b[0;36m__len__\u001b[0;34m(self)\u001b[0m\n\u001b[1;32m    401\u001b[0m \u001b[0;34m\u001b[0m\u001b[0m\n\u001b[1;32m    402\u001b[0m     \u001b[0;32mdef\u001b[0m \u001b[0m__len__\u001b[0m\u001b[0;34m(\u001b[0m\u001b[0mself\u001b[0m\u001b[0;34m)\u001b[0m\u001b[0;34m:\u001b[0m\u001b[0;34m\u001b[0m\u001b[0m\n\u001b[0;32m--> 403\u001b[0;31m         \u001b[0;32mreturn\u001b[0m \u001b[0mlen\u001b[0m\u001b[0;34m(\u001b[0m\u001b[0mself\u001b[0m\u001b[0;34m.\u001b[0m\u001b[0mgroups\u001b[0m\u001b[0;34m)\u001b[0m\u001b[0;34m\u001b[0m\u001b[0m\n\u001b[0m\u001b[1;32m    404\u001b[0m \u001b[0;34m\u001b[0m\u001b[0m\n\u001b[1;32m    405\u001b[0m     \u001b[0;32mdef\u001b[0m \u001b[0m__unicode__\u001b[0m\u001b[0;34m(\u001b[0m\u001b[0mself\u001b[0m\u001b[0;34m)\u001b[0m\u001b[0;34m:\u001b[0m\u001b[0;34m\u001b[0m\u001b[0m\n",
      "\u001b[0;32m/home/ihadanny/anaconda2/envs/py3k/lib/python3.6/site-packages/pandas/core/groupby.py\u001b[0m in \u001b[0;36mgroups\u001b[0;34m(self)\u001b[0m\n\u001b[1;32m    418\u001b[0m         \u001b[0;34m\"\"\" dict {group name -> group labels} \"\"\"\u001b[0m\u001b[0;34m\u001b[0m\u001b[0m\n\u001b[1;32m    419\u001b[0m         \u001b[0mself\u001b[0m\u001b[0;34m.\u001b[0m\u001b[0m_assure_grouper\u001b[0m\u001b[0;34m(\u001b[0m\u001b[0;34m)\u001b[0m\u001b[0;34m\u001b[0m\u001b[0m\n\u001b[0;32m--> 420\u001b[0;31m         \u001b[0;32mreturn\u001b[0m \u001b[0mself\u001b[0m\u001b[0;34m.\u001b[0m\u001b[0mgrouper\u001b[0m\u001b[0;34m.\u001b[0m\u001b[0mgroups\u001b[0m\u001b[0;34m\u001b[0m\u001b[0m\n\u001b[0m\u001b[1;32m    421\u001b[0m \u001b[0;34m\u001b[0m\u001b[0m\n\u001b[1;32m    422\u001b[0m     \u001b[0;34m@\u001b[0m\u001b[0mproperty\u001b[0m\u001b[0;34m\u001b[0m\u001b[0m\n",
      "\u001b[0;32mpandas/_libs/src/properties.pyx\u001b[0m in \u001b[0;36mpandas._libs.lib.cache_readonly.__get__ (pandas/_libs/lib.c:44594)\u001b[0;34m()\u001b[0m\n",
      "\u001b[0;32m/home/ihadanny/anaconda2/envs/py3k/lib/python3.6/site-packages/pandas/core/groupby.py\u001b[0m in \u001b[0;36mgroups\u001b[0;34m(self)\u001b[0m\n\u001b[1;32m   1862\u001b[0m             \u001b[0mto_groupby\u001b[0m \u001b[0;34m=\u001b[0m \u001b[0mlzip\u001b[0m\u001b[0;34m(\u001b[0m\u001b[0;34m*\u001b[0m\u001b[0;34m(\u001b[0m\u001b[0mping\u001b[0m\u001b[0;34m.\u001b[0m\u001b[0mgrouper\u001b[0m \u001b[0;32mfor\u001b[0m \u001b[0mping\u001b[0m \u001b[0;32min\u001b[0m \u001b[0mself\u001b[0m\u001b[0;34m.\u001b[0m\u001b[0mgroupings\u001b[0m\u001b[0;34m)\u001b[0m\u001b[0;34m)\u001b[0m\u001b[0;34m\u001b[0m\u001b[0m\n\u001b[1;32m   1863\u001b[0m             \u001b[0mto_groupby\u001b[0m \u001b[0;34m=\u001b[0m \u001b[0mIndex\u001b[0m\u001b[0;34m(\u001b[0m\u001b[0mto_groupby\u001b[0m\u001b[0;34m)\u001b[0m\u001b[0;34m\u001b[0m\u001b[0m\n\u001b[0;32m-> 1864\u001b[0;31m             \u001b[0;32mreturn\u001b[0m \u001b[0mself\u001b[0m\u001b[0;34m.\u001b[0m\u001b[0maxis\u001b[0m\u001b[0;34m.\u001b[0m\u001b[0mgroupby\u001b[0m\u001b[0;34m(\u001b[0m\u001b[0mto_groupby\u001b[0m\u001b[0;34m)\u001b[0m\u001b[0;34m\u001b[0m\u001b[0m\n\u001b[0m\u001b[1;32m   1865\u001b[0m \u001b[0;34m\u001b[0m\u001b[0m\n\u001b[1;32m   1866\u001b[0m     \u001b[0;34m@\u001b[0m\u001b[0mcache_readonly\u001b[0m\u001b[0;34m\u001b[0m\u001b[0m\n",
      "\u001b[0;32m/home/ihadanny/anaconda2/envs/py3k/lib/python3.6/site-packages/pandas/core/indexes/base.py\u001b[0m in \u001b[0;36mgroupby\u001b[0;34m(self, values)\u001b[0m\n\u001b[1;32m   2753\u001b[0m \u001b[0;34m\u001b[0m\u001b[0m\n\u001b[1;32m   2754\u001b[0m         \u001b[0;31m# map to the label\u001b[0m\u001b[0;34m\u001b[0m\u001b[0;34m\u001b[0m\u001b[0m\n\u001b[0;32m-> 2755\u001b[0;31m         \u001b[0mresult\u001b[0m \u001b[0;34m=\u001b[0m \u001b[0;34m{\u001b[0m\u001b[0mk\u001b[0m\u001b[0;34m:\u001b[0m \u001b[0mself\u001b[0m\u001b[0;34m.\u001b[0m\u001b[0mtake\u001b[0m\u001b[0;34m(\u001b[0m\u001b[0mv\u001b[0m\u001b[0;34m)\u001b[0m \u001b[0;32mfor\u001b[0m \u001b[0mk\u001b[0m\u001b[0;34m,\u001b[0m \u001b[0mv\u001b[0m \u001b[0;32min\u001b[0m \u001b[0mcompat\u001b[0m\u001b[0;34m.\u001b[0m\u001b[0miteritems\u001b[0m\u001b[0;34m(\u001b[0m\u001b[0mresult\u001b[0m\u001b[0;34m)\u001b[0m\u001b[0;34m}\u001b[0m\u001b[0;34m\u001b[0m\u001b[0m\n\u001b[0m\u001b[1;32m   2756\u001b[0m \u001b[0;34m\u001b[0m\u001b[0m\n\u001b[1;32m   2757\u001b[0m         \u001b[0;32mreturn\u001b[0m \u001b[0mresult\u001b[0m\u001b[0;34m\u001b[0m\u001b[0m\n",
      "\u001b[0;32m/home/ihadanny/anaconda2/envs/py3k/lib/python3.6/site-packages/pandas/core/indexes/base.py\u001b[0m in \u001b[0;36m<dictcomp>\u001b[0;34m(.0)\u001b[0m\n\u001b[1;32m   2753\u001b[0m \u001b[0;34m\u001b[0m\u001b[0m\n\u001b[1;32m   2754\u001b[0m         \u001b[0;31m# map to the label\u001b[0m\u001b[0;34m\u001b[0m\u001b[0;34m\u001b[0m\u001b[0m\n\u001b[0;32m-> 2755\u001b[0;31m         \u001b[0mresult\u001b[0m \u001b[0;34m=\u001b[0m \u001b[0;34m{\u001b[0m\u001b[0mk\u001b[0m\u001b[0;34m:\u001b[0m \u001b[0mself\u001b[0m\u001b[0;34m.\u001b[0m\u001b[0mtake\u001b[0m\u001b[0;34m(\u001b[0m\u001b[0mv\u001b[0m\u001b[0;34m)\u001b[0m \u001b[0;32mfor\u001b[0m \u001b[0mk\u001b[0m\u001b[0;34m,\u001b[0m \u001b[0mv\u001b[0m \u001b[0;32min\u001b[0m \u001b[0mcompat\u001b[0m\u001b[0;34m.\u001b[0m\u001b[0miteritems\u001b[0m\u001b[0;34m(\u001b[0m\u001b[0mresult\u001b[0m\u001b[0;34m)\u001b[0m\u001b[0;34m}\u001b[0m\u001b[0;34m\u001b[0m\u001b[0m\n\u001b[0m\u001b[1;32m   2756\u001b[0m \u001b[0;34m\u001b[0m\u001b[0m\n\u001b[1;32m   2757\u001b[0m         \u001b[0;32mreturn\u001b[0m \u001b[0mresult\u001b[0m\u001b[0;34m\u001b[0m\u001b[0m\n",
      "\u001b[0;31mKeyboardInterrupt\u001b[0m: "
     ]
    }
   ],
   "source": [
    "\n",
    "while episode_number <= total_episodes:\n",
    "    for ep in range(batch_number):\n",
    "        obsrv = project_state_to_nn_input(env.reset())\n",
    "        ep_history=[]\n",
    "        step_num=0\n",
    "        total_reward=0\n",
    "        done=False\n",
    "\n",
    "        while not done and step_num < MAX_STEPS:\n",
    "            #Perform the game \"step:\"\n",
    "            step_num+=1\n",
    "            action = get_action(sess,obsrv)\n",
    "            if env_d == 'IANNA-v0':\n",
    "                complex_action = build_ianna_action_from_grouped_by_field(action)\n",
    "                obsrv1, reward, done, info = env.step(complex_action)\n",
    "            else:\n",
    "                obsrv1, reward, done, info = env.step(action)\n",
    "\n",
    "            total_reward+=reward\n",
    "            ep_history.append((np.array(obsrv),action,reward))\n",
    "            obsrv=project_state_to_nn_input(obsrv1)\n",
    "\n",
    "        episode_number+=1\n",
    "        ep_history= np.array(ep_history)   \n",
    "        ep_history[:,2] = discount_rewards(ep_history[:,2])\n",
    "\n",
    "        \"\"\"\n",
    "        perform the training step, \n",
    "        feeding the network with the ep_history that contains\n",
    "        the states,actions, and discounted rewards\n",
    "        \"\"\"\n",
    "        ep_states_array = np.vstack(ep_history[:,0]).T\n",
    "        ep_actions_array = ep_history[:,1].T\n",
    "        ep_curr_reward = ep_history[:,2].T\n",
    "        L=train(sess, ep_states_array, ep_actions_array, ep_curr_reward)\n",
    "\n",
    "        #update the rewards/steps counter, storing the data for all episodes\n",
    "        rewards.append(total_reward)\n",
    "        steps.append(step_num)    \n",
    "        \n",
    "        if episode_number%DISPLAY_FREQ==0:\n",
    "            print(\"latest game actions: \", ep_actions_array.T)\n",
    "            print(\"latest game reward: \", total_reward)\n",
    "            print(\"latest game first state: \", ep_states_array.T[0])\n",
    "            print(\"latest game last state: \", obsrv)\n",
    "            print(\"Total episodes: %d\"%episode_number)\n",
    "            print(\"Average steps per %d episodes: %f\"%(DISPLAY_FREQ, np.mean(steps[-DISPLAY_FREQ:])))\n",
    "            print(\"Average reward per %d episodes : %f\"%(DISPLAY_FREQ, np.mean(rewards[-DISPLAY_FREQ:])))\n",
    "    update(sess)\n",
    "    reset_grad_buffer()\n",
    "    if np.mean(rewards[-batch_number:])>max_reward:\n",
    "        max_reward=np.mean(rewards[-batch_number:])\n",
    "        print(\"\\t\\t\\tCurr Max mean reward per batch:\",max_reward)\n",
    "  \n",
    "        "
   ]
  },
  {
   "cell_type": "code",
   "execution_count": null,
   "metadata": {
    "collapsed": true
   },
   "outputs": [],
   "source": [
    "obsrv"
   ]
  },
  {
   "cell_type": "code",
   "execution_count": null,
   "metadata": {
    "collapsed": true
   },
   "outputs": [],
   "source": [
    "#sess.close()"
   ]
  },
  {
   "cell_type": "code",
   "execution_count": null,
   "metadata": {},
   "outputs": [],
   "source": [
    "obs"
   ]
  },
  {
   "cell_type": "code",
   "execution_count": null,
   "metadata": {
    "collapsed": true
   },
   "outputs": [],
   "source": []
  }
 ],
 "metadata": {
  "kernelspec": {
   "display_name": "Python 3",
   "language": "python",
   "name": "python3"
  },
  "language_info": {
   "codemirror_mode": {
    "name": "ipython",
    "version": 3
   },
   "file_extension": ".py",
   "mimetype": "text/x-python",
   "name": "python",
   "nbconvert_exporter": "python",
   "pygments_lexer": "ipython3",
   "version": "3.6.1"
  }
 },
 "nbformat": 4,
 "nbformat_minor": 2
}
