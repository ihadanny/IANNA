{
 "cells": [
  {
   "cell_type": "code",
   "execution_count": 1,
   "metadata": {
    "collapsed": true
   },
   "outputs": [],
   "source": [
    "import tensorflow as tf\n",
    "import pandas as pd, numpy as np\n",
    "import sklearn"
   ]
  },
  {
   "cell_type": "code",
   "execution_count": 2,
   "metadata": {},
   "outputs": [],
   "source": [
    "X = pd.read_csv('../Data_manipulation/experts_dataset/x.tsv', sep = '\\t')\n",
    "y = pd.read_csv('../Data_manipulation/experts_dataset/y.tsv', sep = '\\t')"
   ]
  },
  {
   "cell_type": "code",
   "execution_count": 3,
   "metadata": {},
   "outputs": [
    {
     "data": {
      "text/html": [
       "<div>\n",
       "<style>\n",
       "    .dataframe thead tr:only-child th {\n",
       "        text-align: right;\n",
       "    }\n",
       "\n",
       "    .dataframe thead th {\n",
       "        text-align: left;\n",
       "    }\n",
       "\n",
       "    .dataframe tbody tr th {\n",
       "        vertical-align: top;\n",
       "    }\n",
       "</style>\n",
       "<table border=\"1\" class=\"dataframe\">\n",
       "  <thead>\n",
       "    <tr style=\"text-align: right;\">\n",
       "      <th></th>\n",
       "      <th>display_id</th>\n",
       "      <th>1</th>\n",
       "      <th>2</th>\n",
       "      <th>3</th>\n",
       "      <th>4</th>\n",
       "      <th>5</th>\n",
       "      <th>6</th>\n",
       "      <th>7</th>\n",
       "      <th>8</th>\n",
       "      <th>9</th>\n",
       "      <th>...</th>\n",
       "      <th>42</th>\n",
       "      <th>43</th>\n",
       "      <th>44</th>\n",
       "      <th>45</th>\n",
       "      <th>46</th>\n",
       "      <th>47</th>\n",
       "      <th>48</th>\n",
       "      <th>49</th>\n",
       "      <th>50</th>\n",
       "      <th>51</th>\n",
       "    </tr>\n",
       "  </thead>\n",
       "  <tbody>\n",
       "    <tr>\n",
       "      <th>0</th>\n",
       "      <td>1</td>\n",
       "      <td>0.034416</td>\n",
       "      <td>0.034416</td>\n",
       "      <td>0.039079</td>\n",
       "      <td>0.98829</td>\n",
       "      <td>0.85059</td>\n",
       "      <td>0.086827</td>\n",
       "      <td>0.054094</td>\n",
       "      <td>1.0</td>\n",
       "      <td>0.523395</td>\n",
       "      <td>...</td>\n",
       "      <td>0</td>\n",
       "      <td>0</td>\n",
       "      <td>0</td>\n",
       "      <td>0</td>\n",
       "      <td>0</td>\n",
       "      <td>0</td>\n",
       "      <td>0</td>\n",
       "      <td>0</td>\n",
       "      <td>0</td>\n",
       "      <td>0</td>\n",
       "    </tr>\n",
       "    <tr>\n",
       "      <th>1</th>\n",
       "      <td>2</td>\n",
       "      <td>0.034416</td>\n",
       "      <td>0.034416</td>\n",
       "      <td>0.039079</td>\n",
       "      <td>0.98829</td>\n",
       "      <td>0.85059</td>\n",
       "      <td>0.086827</td>\n",
       "      <td>0.054094</td>\n",
       "      <td>1.0</td>\n",
       "      <td>0.523395</td>\n",
       "      <td>...</td>\n",
       "      <td>0</td>\n",
       "      <td>0</td>\n",
       "      <td>0</td>\n",
       "      <td>0</td>\n",
       "      <td>0</td>\n",
       "      <td>0</td>\n",
       "      <td>0</td>\n",
       "      <td>0</td>\n",
       "      <td>0</td>\n",
       "      <td>0</td>\n",
       "    </tr>\n",
       "    <tr>\n",
       "      <th>2</th>\n",
       "      <td>3</td>\n",
       "      <td>0.034416</td>\n",
       "      <td>0.034416</td>\n",
       "      <td>0.039079</td>\n",
       "      <td>0.98829</td>\n",
       "      <td>0.85059</td>\n",
       "      <td>0.086827</td>\n",
       "      <td>0.054094</td>\n",
       "      <td>1.0</td>\n",
       "      <td>0.523395</td>\n",
       "      <td>...</td>\n",
       "      <td>0</td>\n",
       "      <td>0</td>\n",
       "      <td>0</td>\n",
       "      <td>1</td>\n",
       "      <td>0</td>\n",
       "      <td>0</td>\n",
       "      <td>0</td>\n",
       "      <td>0</td>\n",
       "      <td>0</td>\n",
       "      <td>0</td>\n",
       "    </tr>\n",
       "    <tr>\n",
       "      <th>3</th>\n",
       "      <td>4</td>\n",
       "      <td>0.034416</td>\n",
       "      <td>0.034416</td>\n",
       "      <td>0.039079</td>\n",
       "      <td>0.98829</td>\n",
       "      <td>0.85059</td>\n",
       "      <td>0.086827</td>\n",
       "      <td>0.054094</td>\n",
       "      <td>1.0</td>\n",
       "      <td>0.523395</td>\n",
       "      <td>...</td>\n",
       "      <td>0</td>\n",
       "      <td>0</td>\n",
       "      <td>0</td>\n",
       "      <td>0</td>\n",
       "      <td>0</td>\n",
       "      <td>0</td>\n",
       "      <td>0</td>\n",
       "      <td>0</td>\n",
       "      <td>0</td>\n",
       "      <td>0</td>\n",
       "    </tr>\n",
       "    <tr>\n",
       "      <th>4</th>\n",
       "      <td>5</td>\n",
       "      <td>0.034416</td>\n",
       "      <td>0.034416</td>\n",
       "      <td>0.039079</td>\n",
       "      <td>0.98829</td>\n",
       "      <td>0.85059</td>\n",
       "      <td>0.086827</td>\n",
       "      <td>0.054094</td>\n",
       "      <td>1.0</td>\n",
       "      <td>0.523395</td>\n",
       "      <td>...</td>\n",
       "      <td>0</td>\n",
       "      <td>0</td>\n",
       "      <td>0</td>\n",
       "      <td>0</td>\n",
       "      <td>0</td>\n",
       "      <td>0</td>\n",
       "      <td>0</td>\n",
       "      <td>0</td>\n",
       "      <td>0</td>\n",
       "      <td>0</td>\n",
       "    </tr>\n",
       "  </tbody>\n",
       "</table>\n",
       "<p>5 rows × 52 columns</p>\n",
       "</div>"
      ],
      "text/plain": [
       "   display_id         1         2         3        4        5         6  \\\n",
       "0           1  0.034416  0.034416  0.039079  0.98829  0.85059  0.086827   \n",
       "1           2  0.034416  0.034416  0.039079  0.98829  0.85059  0.086827   \n",
       "2           3  0.034416  0.034416  0.039079  0.98829  0.85059  0.086827   \n",
       "3           4  0.034416  0.034416  0.039079  0.98829  0.85059  0.086827   \n",
       "4           5  0.034416  0.034416  0.039079  0.98829  0.85059  0.086827   \n",
       "\n",
       "          7    8         9 ...  42  43  44  45  46  47  48  49  50  51  \n",
       "0  0.054094  1.0  0.523395 ...   0   0   0   0   0   0   0   0   0   0  \n",
       "1  0.054094  1.0  0.523395 ...   0   0   0   0   0   0   0   0   0   0  \n",
       "2  0.054094  1.0  0.523395 ...   0   0   0   1   0   0   0   0   0   0  \n",
       "3  0.054094  1.0  0.523395 ...   0   0   0   0   0   0   0   0   0   0  \n",
       "4  0.054094  1.0  0.523395 ...   0   0   0   0   0   0   0   0   0   0  \n",
       "\n",
       "[5 rows x 52 columns]"
      ]
     },
     "execution_count": 3,
     "metadata": {},
     "output_type": "execute_result"
    }
   ],
   "source": [
    "X.head()"
   ]
  },
  {
   "cell_type": "code",
   "execution_count": 4,
   "metadata": {},
   "outputs": [
    {
     "data": {
      "text/html": [
       "<div>\n",
       "<style>\n",
       "    .dataframe thead tr:only-child th {\n",
       "        text-align: right;\n",
       "    }\n",
       "\n",
       "    .dataframe thead th {\n",
       "        text-align: left;\n",
       "    }\n",
       "\n",
       "    .dataframe tbody tr th {\n",
       "        vertical-align: top;\n",
       "    }\n",
       "</style>\n",
       "<table border=\"1\" class=\"dataframe\">\n",
       "  <thead>\n",
       "    <tr style=\"text-align: right;\">\n",
       "      <th></th>\n",
       "      <th>parent_display_id</th>\n",
       "      <th>label</th>\n",
       "    </tr>\n",
       "  </thead>\n",
       "  <tbody>\n",
       "    <tr>\n",
       "      <th>0</th>\n",
       "      <td>1</td>\n",
       "      <td>1</td>\n",
       "    </tr>\n",
       "    <tr>\n",
       "      <th>1</th>\n",
       "      <td>2</td>\n",
       "      <td>5</td>\n",
       "    </tr>\n",
       "    <tr>\n",
       "      <th>2</th>\n",
       "      <td>4</td>\n",
       "      <td>1</td>\n",
       "    </tr>\n",
       "    <tr>\n",
       "      <th>3</th>\n",
       "      <td>4</td>\n",
       "      <td>5</td>\n",
       "    </tr>\n",
       "    <tr>\n",
       "      <th>4</th>\n",
       "      <td>4</td>\n",
       "      <td>5</td>\n",
       "    </tr>\n",
       "  </tbody>\n",
       "</table>\n",
       "</div>"
      ],
      "text/plain": [
       "   parent_display_id  label\n",
       "0                  1      1\n",
       "1                  2      5\n",
       "2                  4      1\n",
       "3                  4      5\n",
       "4                  4      5"
      ]
     },
     "execution_count": 4,
     "metadata": {},
     "output_type": "execute_result"
    }
   ],
   "source": [
    "y.head()"
   ]
  },
  {
   "cell_type": "code",
   "execution_count": 5,
   "metadata": {},
   "outputs": [],
   "source": [
    "j = pd.merge(X, y, left_on = 'display_id', right_on = 'parent_display_id')\n",
    "X = j.drop(['label', 'display_id', 'parent_display_id'], axis = 1)\n",
    "y = j.label"
   ]
  },
  {
   "cell_type": "code",
   "execution_count": 6,
   "metadata": {},
   "outputs": [
    {
     "name": "stdout",
     "output_type": "stream",
     "text": [
      "(503, 51)\n"
     ]
    },
    {
     "data": {
      "text/html": [
       "<div>\n",
       "<style>\n",
       "    .dataframe thead tr:only-child th {\n",
       "        text-align: right;\n",
       "    }\n",
       "\n",
       "    .dataframe thead th {\n",
       "        text-align: left;\n",
       "    }\n",
       "\n",
       "    .dataframe tbody tr th {\n",
       "        vertical-align: top;\n",
       "    }\n",
       "</style>\n",
       "<table border=\"1\" class=\"dataframe\">\n",
       "  <thead>\n",
       "    <tr style=\"text-align: right;\">\n",
       "      <th></th>\n",
       "      <th>1</th>\n",
       "      <th>2</th>\n",
       "      <th>3</th>\n",
       "      <th>4</th>\n",
       "      <th>5</th>\n",
       "      <th>6</th>\n",
       "      <th>7</th>\n",
       "      <th>8</th>\n",
       "      <th>9</th>\n",
       "      <th>10</th>\n",
       "      <th>...</th>\n",
       "      <th>42</th>\n",
       "      <th>43</th>\n",
       "      <th>44</th>\n",
       "      <th>45</th>\n",
       "      <th>46</th>\n",
       "      <th>47</th>\n",
       "      <th>48</th>\n",
       "      <th>49</th>\n",
       "      <th>50</th>\n",
       "      <th>51</th>\n",
       "    </tr>\n",
       "  </thead>\n",
       "  <tbody>\n",
       "    <tr>\n",
       "      <th>0</th>\n",
       "      <td>0.034416</td>\n",
       "      <td>0.034416</td>\n",
       "      <td>0.039079</td>\n",
       "      <td>0.98829</td>\n",
       "      <td>0.85059</td>\n",
       "      <td>0.086827</td>\n",
       "      <td>0.054094</td>\n",
       "      <td>1.0</td>\n",
       "      <td>0.523395</td>\n",
       "      <td>0.481127</td>\n",
       "      <td>...</td>\n",
       "      <td>0</td>\n",
       "      <td>0</td>\n",
       "      <td>0</td>\n",
       "      <td>0</td>\n",
       "      <td>0</td>\n",
       "      <td>0</td>\n",
       "      <td>0</td>\n",
       "      <td>0</td>\n",
       "      <td>0</td>\n",
       "      <td>0</td>\n",
       "    </tr>\n",
       "    <tr>\n",
       "      <th>1</th>\n",
       "      <td>0.034416</td>\n",
       "      <td>0.034416</td>\n",
       "      <td>0.039079</td>\n",
       "      <td>0.98829</td>\n",
       "      <td>0.85059</td>\n",
       "      <td>0.086827</td>\n",
       "      <td>0.054094</td>\n",
       "      <td>1.0</td>\n",
       "      <td>0.523395</td>\n",
       "      <td>0.481127</td>\n",
       "      <td>...</td>\n",
       "      <td>0</td>\n",
       "      <td>0</td>\n",
       "      <td>0</td>\n",
       "      <td>0</td>\n",
       "      <td>0</td>\n",
       "      <td>0</td>\n",
       "      <td>0</td>\n",
       "      <td>0</td>\n",
       "      <td>0</td>\n",
       "      <td>0</td>\n",
       "    </tr>\n",
       "    <tr>\n",
       "      <th>2</th>\n",
       "      <td>0.034416</td>\n",
       "      <td>0.034416</td>\n",
       "      <td>0.039079</td>\n",
       "      <td>0.98829</td>\n",
       "      <td>0.85059</td>\n",
       "      <td>0.086827</td>\n",
       "      <td>0.054094</td>\n",
       "      <td>1.0</td>\n",
       "      <td>0.523395</td>\n",
       "      <td>0.481127</td>\n",
       "      <td>...</td>\n",
       "      <td>0</td>\n",
       "      <td>0</td>\n",
       "      <td>0</td>\n",
       "      <td>0</td>\n",
       "      <td>0</td>\n",
       "      <td>0</td>\n",
       "      <td>0</td>\n",
       "      <td>0</td>\n",
       "      <td>0</td>\n",
       "      <td>0</td>\n",
       "    </tr>\n",
       "    <tr>\n",
       "      <th>3</th>\n",
       "      <td>0.034416</td>\n",
       "      <td>0.034416</td>\n",
       "      <td>0.039079</td>\n",
       "      <td>0.98829</td>\n",
       "      <td>0.85059</td>\n",
       "      <td>0.086827</td>\n",
       "      <td>0.054094</td>\n",
       "      <td>1.0</td>\n",
       "      <td>0.523395</td>\n",
       "      <td>0.481127</td>\n",
       "      <td>...</td>\n",
       "      <td>0</td>\n",
       "      <td>0</td>\n",
       "      <td>0</td>\n",
       "      <td>0</td>\n",
       "      <td>0</td>\n",
       "      <td>0</td>\n",
       "      <td>0</td>\n",
       "      <td>0</td>\n",
       "      <td>0</td>\n",
       "      <td>0</td>\n",
       "    </tr>\n",
       "    <tr>\n",
       "      <th>4</th>\n",
       "      <td>0.034416</td>\n",
       "      <td>0.034416</td>\n",
       "      <td>0.039079</td>\n",
       "      <td>0.98829</td>\n",
       "      <td>0.85059</td>\n",
       "      <td>0.086827</td>\n",
       "      <td>0.054094</td>\n",
       "      <td>1.0</td>\n",
       "      <td>0.523395</td>\n",
       "      <td>0.481127</td>\n",
       "      <td>...</td>\n",
       "      <td>0</td>\n",
       "      <td>0</td>\n",
       "      <td>0</td>\n",
       "      <td>0</td>\n",
       "      <td>0</td>\n",
       "      <td>0</td>\n",
       "      <td>0</td>\n",
       "      <td>0</td>\n",
       "      <td>0</td>\n",
       "      <td>0</td>\n",
       "    </tr>\n",
       "  </tbody>\n",
       "</table>\n",
       "<p>5 rows × 51 columns</p>\n",
       "</div>"
      ],
      "text/plain": [
       "          1         2         3        4        5         6         7    8  \\\n",
       "0  0.034416  0.034416  0.039079  0.98829  0.85059  0.086827  0.054094  1.0   \n",
       "1  0.034416  0.034416  0.039079  0.98829  0.85059  0.086827  0.054094  1.0   \n",
       "2  0.034416  0.034416  0.039079  0.98829  0.85059  0.086827  0.054094  1.0   \n",
       "3  0.034416  0.034416  0.039079  0.98829  0.85059  0.086827  0.054094  1.0   \n",
       "4  0.034416  0.034416  0.039079  0.98829  0.85059  0.086827  0.054094  1.0   \n",
       "\n",
       "          9        10 ...  42  43  44  45  46  47  48  49  50  51  \n",
       "0  0.523395  0.481127 ...   0   0   0   0   0   0   0   0   0   0  \n",
       "1  0.523395  0.481127 ...   0   0   0   0   0   0   0   0   0   0  \n",
       "2  0.523395  0.481127 ...   0   0   0   0   0   0   0   0   0   0  \n",
       "3  0.523395  0.481127 ...   0   0   0   0   0   0   0   0   0   0  \n",
       "4  0.523395  0.481127 ...   0   0   0   0   0   0   0   0   0   0  \n",
       "\n",
       "[5 rows x 51 columns]"
      ]
     },
     "execution_count": 6,
     "metadata": {},
     "output_type": "execute_result"
    }
   ],
   "source": [
    "print(X.shape)\n",
    "X.head()"
   ]
  },
  {
   "cell_type": "code",
   "execution_count": 7,
   "metadata": {},
   "outputs": [
    {
     "data": {
      "text/plain": [
       "0    1\n",
       "1    5\n",
       "2    1\n",
       "3    5\n",
       "4    5\n",
       "Name: label, dtype: int64"
      ]
     },
     "execution_count": 7,
     "metadata": {},
     "output_type": "execute_result"
    }
   ],
   "source": [
    "y.head()"
   ]
  },
  {
   "cell_type": "code",
   "execution_count": 8,
   "metadata": {},
   "outputs": [
    {
     "data": {
      "text/plain": [
       "5     141\n",
       "4     107\n",
       "2      92\n",
       "11     67\n",
       "9      38\n",
       "1      34\n",
       "10     15\n",
       "0       5\n",
       "6       2\n",
       "8       1\n",
       "7       1\n",
       "Name: label, dtype: int64"
      ]
     },
     "execution_count": 8,
     "metadata": {},
     "output_type": "execute_result"
    }
   ],
   "source": [
    "y.value_counts()"
   ]
  },
  {
   "cell_type": "code",
   "execution_count": 9,
   "metadata": {
    "collapsed": true
   },
   "outputs": [],
   "source": [
    "OP_NUMBER = 12\n",
    "STATE_INPUT_SIZE = 51\n",
    "HIDDEN_SIZE = 30\n"
   ]
  },
  {
   "cell_type": "code",
   "execution_count": 10,
   "metadata": {},
   "outputs": [],
   "source": [
    "assert(STATE_INPUT_SIZE == X.shape[1])\n",
    "assert(OP_NUMBER == y.max() + 1)"
   ]
  },
  {
   "cell_type": "code",
   "execution_count": 11,
   "metadata": {
    "collapsed": true
   },
   "outputs": [],
   "source": [
    "#Initializing \n",
    "tf.reset_default_graph()\n",
    "\n",
    "W1 = tf.get_variable(shape=[HIDDEN_SIZE,STATE_INPUT_SIZE],name='w1',\n",
    "                      initializer=tf.contrib.layers.xavier_initializer())\n",
    "W2 = tf.get_variable(shape=[HIDDEN_SIZE,HIDDEN_SIZE],name='w2',\n",
    "                      initializer=tf.contrib.layers.xavier_initializer())\n",
    "W3 = tf.get_variable(shape=[OP_NUMBER,HIDDEN_SIZE],name='w3',\n",
    "                      initializer=tf.contrib.layers.xavier_initializer())\n",
    "\n",
    "b1 = tf.get_variable(shape=[HIDDEN_SIZE,1],name='b1',\n",
    "                      initializer=tf.contrib.layers.xavier_initializer())\n",
    "b2 = tf.get_variable(shape=[HIDDEN_SIZE,1],name='b2',\n",
    "                      initializer=tf.contrib.layers.xavier_initializer())\n",
    "b3 = tf.get_variable(shape=[OP_NUMBER,1],name='b3',\n",
    "                      initializer=tf.contrib.layers.xavier_initializer())\n",
    "\n",
    "#Layers:\n",
    "x = tf.placeholder(tf.float32, shape=[STATE_INPUT_SIZE,None],name='x')\n",
    "h1 = tf.tanh(tf.matmul(W1,x) + b1)\n",
    "h2 = tf.tanh(tf.matmul(W2,h1) + b2)\n",
    "y_logits = tf.matmul(W3,h2) + b3\n",
    "y = tf.nn.softmax(y_logits,dim=0)\n",
    "\n"
   ]
  },
  {
   "cell_type": "code",
   "execution_count": 12,
   "metadata": {
    "collapsed": true
   },
   "outputs": [],
   "source": [
    "y_label = tf.placeholder(tf.float32,[OP_NUMBER, None], name=\"y_label\")\n"
   ]
  },
  {
   "cell_type": "code",
   "execution_count": 13,
   "metadata": {
    "collapsed": true
   },
   "outputs": [],
   "source": [
    "#ADAM Optimizer hyper-parameters:\n",
    "LEARNING_RATE = 0.01\n",
    "B1 = 0.8\n",
    "B2= 0.999\n",
    "EPSILON=1e-6\n"
   ]
  },
  {
   "cell_type": "code",
   "execution_count": 14,
   "metadata": {
    "collapsed": true
   },
   "outputs": [],
   "source": [
    "ce1 = tf.nn.softmax_cross_entropy_with_logits(logits=y_logits, labels=y_label, dim=0)\n",
    "adam = tf.train.AdamOptimizer(learning_rate=LEARNING_RATE,beta1=B1,beta2=B2,epsilon=EPSILON)\n",
    "train_step = adam.minimize(ce1)"
   ]
  },
  {
   "cell_type": "code",
   "execution_count": 15,
   "metadata": {
    "collapsed": true
   },
   "outputs": [],
   "source": [
    "correct_prediction = tf.equal(tf.argmax(y, 1), tf.argmax(y_label, 1))\n",
    "accuracy = tf.reduce_mean(tf.cast(correct_prediction, tf.float32))\n"
   ]
  },
  {
   "cell_type": "code",
   "execution_count": 16,
   "metadata": {},
   "outputs": [
    {
     "name": "stdout",
     "output_type": "stream",
     "text": [
      "batch 0, training accuracy 0.0833333\n",
      "batch 500, training accuracy 0.583333\n",
      "batch 1000, training accuracy 0.666667\n",
      "batch 1500, training accuracy 0.833333\n",
      "batch 2000, training accuracy 0.666667\n",
      "batch 2500, training accuracy 0.75\n",
      "batch 3000, training accuracy 0.666667\n",
      "batch 3500, training accuracy 0.666667\n",
      "batch 4000, training accuracy 0.666667\n",
      "batch 4500, training accuracy 0.666667\n",
      "overall accuracy 0.833333\n"
     ]
    }
   ],
   "source": [
    "BATCH_SIZE = 10\n",
    "BATCHES = 5000\n",
    "\n",
    "def feed_dict_from_df(j):\n",
    "    xs, ys = [], []\n",
    "    X = j.drop(['label', 'display_id', 'parent_display_id'], axis = 1)\n",
    "    y = j.label\n",
    "    for i in range(bdf.shape[0]):\n",
    "        xs.append(X.iloc[i].values)\n",
    "        y_hot = [0]*OP_NUMBER\n",
    "        y_hot[y.iloc[i]] = 1\n",
    "        ys.append(y_hot)\n",
    "    return np.vstack(xs).T, np.vstack(ys).T\n",
    "        \n",
    "sess = tf.Session()\n",
    "sess.run(tf.global_variables_initializer())\n",
    "for batch in range(BATCHES):\n",
    "    bdf = j.sample(BATCH_SIZE)\n",
    "    xs, ys = feed_dict_from_df(bdf)\n",
    "    sess.run(train_step, feed_dict={x: xs, y_label: ys})\n",
    "    if batch % (BATCHES/10) == 0:\n",
    "        train_accuracy = accuracy.eval(feed_dict={x: xs, y_label: ys}, session = sess)\n",
    "        print('batch %d, training accuracy %g' % (batch, train_accuracy))\n",
    "xs, ys = feed_dict_from_df(j)\n",
    "test_accuracy = accuracy.eval(feed_dict={x: xs, y_label: ys}, session = sess)\n",
    "print('overall accuracy %g' % (test_accuracy))\n"
   ]
  },
  {
   "cell_type": "code",
   "execution_count": 17,
   "metadata": {},
   "outputs": [
    {
     "data": {
      "text/plain": [
       "'../models/ianna-nn-supervised'"
      ]
     },
     "execution_count": 17,
     "metadata": {},
     "output_type": "execute_result"
    }
   ],
   "source": [
    "saver = tf.train.Saver()\n",
    "saver.save(sess, '../models/ianna-nn-supervised')"
   ]
  },
  {
   "cell_type": "code",
   "execution_count": 18,
   "metadata": {
    "collapsed": true
   },
   "outputs": [],
   "source": [
    "sess.close()"
   ]
  },
  {
   "cell_type": "code",
   "execution_count": null,
   "metadata": {
    "collapsed": true
   },
   "outputs": [],
   "source": []
  }
 ],
 "metadata": {
  "kernelspec": {
   "display_name": "Python 3",
   "language": "python",
   "name": "python3"
  },
  "language_info": {
   "codemirror_mode": {
    "name": "ipython",
    "version": 3
   },
   "file_extension": ".py",
   "mimetype": "text/x-python",
   "name": "python",
   "nbconvert_exporter": "python",
   "pygments_lexer": "ipython3",
   "version": "3.6.1"
  }
 },
 "nbformat": 4,
 "nbformat_minor": 2
}
