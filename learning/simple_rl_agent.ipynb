{
 "cells": [
  {
   "cell_type": "code",
   "execution_count": 1,
   "metadata": {},
   "outputs": [],
   "source": [
    "import numpy as np\n",
    "\n",
    "import gym\n",
    "from gym_ianna.envs.ianna_env import IANNAEnv\n",
    "\n"
   ]
  },
  {
   "cell_type": "code",
   "execution_count": 2,
   "metadata": {},
   "outputs": [
    {
     "name": "stderr",
     "output_type": "stream",
     "text": [
      "[2017-08-12 22:55:27,059] Making new env: IANNA-v0\n"
     ]
    },
    {
     "name": "stdout",
     "output_type": "stream",
     "text": [
      "reading input /home/ihadanny/src/IANNA/gym_ianna/envs/../../data/1.tsv\n",
      "observation space from [0 0 0 0 0 0 0 0 0 0 0 0 0 0 0 0 0 0 0 0 0 0 0 0 0 0 0 0 0 0 0 0] to [8648 8648   10    2    2    3 8148    0 3692  180   10 8648    1  118  157\n",
      "  208  206    1    1    1    1    1    1    1    1    1    1    1    1    1\n",
      "    1    1] expected shape (32,)\n"
     ]
    }
   ],
   "source": [
    "env = gym.make(\"IANNA-v0\")\n"
   ]
  },
  {
   "cell_type": "code",
   "execution_count": 3,
   "metadata": {},
   "outputs": [
    {
     "name": "stdout",
     "output_type": "stream",
     "text": [
      "reading input /home/ihadanny/src/IANNA/gym_ianna/envs/../../data/1.tsv\n",
      "[8648 8648   10    2    2    3 8148    0 3692  180   10 8648    1  118  157\n",
      "  208  206    0    0    0    0    0    0    0    0    0    0    0    0    0\n",
      "    0    0]\n"
     ]
    }
   ],
   "source": [
    "observation = env.reset()\n",
    "print(observation)\n"
   ]
  },
  {
   "cell_type": "code",
   "execution_count": 4,
   "metadata": {},
   "outputs": [
    {
     "name": "stdout",
     "output_type": "stream",
     "text": [
      "filter tcp_stream GT 676.9\n",
      "[290 290   2   2   2   1 173   0  62  42   2 290   1  40  47  72  70   0\n",
      "   0   0   0   0   0   0   0   0   0   0   0   0   0   0] 1.0 False\n"
     ]
    }
   ],
   "source": [
    "\n",
    "action = np.array([1, 14, 1, 7, 0, 0])\n",
    "observation, reward, done, info = env.step(action)\n",
    "print(observation, reward, done)\n"
   ]
  },
  {
   "cell_type": "code",
   "execution_count": 5,
   "metadata": {},
   "outputs": [
    {
     "name": "stdout",
     "output_type": "stream",
     "text": [
      "group info_line\n",
      "[290 173   2   2   2   1 173   0  62  42   2 290   1  40  47  72  70   0\n",
      "   0   0   0   1   0   0   0   0   0   0   0   0   0   0] 1.0 False\n"
     ]
    }
   ],
   "source": [
    "\n",
    "action = np.array([2, 4, 0, 0, 0, 0])\n",
    "observation, reward, done, info = env.step(action)\n",
    "print(observation, reward, done)\n"
   ]
  },
  {
   "cell_type": "code",
   "execution_count": 6,
   "metadata": {},
   "outputs": [
    {
     "name": "stdout",
     "output_type": "stream",
     "text": [
      "group tcp_srcport\n",
      "[290 173   2   2   2   1 173   0  62  42   2 290   1  40  47  72  70   0\n",
      "   0   0   0   1   0   0   0   0   0   0   0   0   1   0] 1.0 False\n"
     ]
    }
   ],
   "source": [
    "action = np.array([2, 13, 0, 0, 0, 0])\n",
    "observation, reward, done, info = env.step(action)\n",
    "print(observation, reward, done)\n"
   ]
  },
  {
   "cell_type": "code",
   "execution_count": 7,
   "metadata": {},
   "outputs": [
    {
     "name": "stdout",
     "output_type": "stream",
     "text": [
      "back\n",
      "[290 173   2   2   2   1 173   0  62  42   2 290   1  40  47  72  70   0\n",
      "   0   0   0   1   0   0   0   0   0   0   0   0   0   0] 0.0 False\n"
     ]
    }
   ],
   "source": [
    "\n",
    "action = np.array([0, 0, 0, 0, 0, 0])\n",
    "observation, reward, done, info = env.step(action)\n",
    "print(observation, reward, done)\n"
   ]
  },
  {
   "cell_type": "code",
   "execution_count": null,
   "metadata": {
    "collapsed": true
   },
   "outputs": [],
   "source": []
  },
  {
   "cell_type": "code",
   "execution_count": null,
   "metadata": {
    "collapsed": true
   },
   "outputs": [],
   "source": []
  }
 ],
 "metadata": {
  "kernelspec": {
   "display_name": "Python 3",
   "language": "python",
   "name": "python3"
  },
  "language_info": {
   "codemirror_mode": {
    "name": "ipython",
    "version": 3
   },
   "file_extension": ".py",
   "mimetype": "text/x-python",
   "name": "python",
   "nbconvert_exporter": "python",
   "pygments_lexer": "ipython3",
   "version": "3.6.1"
  }
 },
 "nbformat": 4,
 "nbformat_minor": 2
}
